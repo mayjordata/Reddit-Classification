{
 "cells": [
  {
   "cell_type": "markdown",
   "metadata": {},
   "source": [
    "### Imports"
   ]
  },
  {
   "cell_type": "code",
   "execution_count": 1,
   "metadata": {},
   "outputs": [],
   "source": [
    "import pandas as pd\n",
    "import numpy as np\n",
    "import matplotlib.pyplot as plt\n",
    "import seaborn as sns\n",
    "\n",
    "import os\n",
    "\n",
    "import json\n",
    "\n",
    "from sklearn.feature_extraction.text import CountVectorizer, TfidfVectorizer, ENGLISH_STOP_WORDS\n",
    "from sklearn.feature_extraction import stop_words\n",
    "from nltk.stem import WordNetLemmatizer\n",
    "from nltk.stem.porter import PorterStemmer\n",
    "from nltk.sentiment.vader import SentimentIntensityAnalyzer\n",
    "\n",
    "plt.style.use('bmh')"
   ]
  },
  {
   "cell_type": "markdown",
   "metadata": {},
   "source": [
    "### Reading in CSVs"
   ]
  },
  {
   "cell_type": "code",
   "execution_count": 2,
   "metadata": {},
   "outputs": [
    {
     "name": "stdout",
     "output_type": "stream",
     "text": [
      "The number of DataFrames loaded is: 12\n",
      "The size of merged DataFrame is: (11850, 7)\n",
      "The size of reduced DataFrame is: (11850, 7)\n"
     ]
    }
   ],
   "source": [
    "# Save the list of files to a variable\n",
    "file_list = os.listdir('../data/scrapes/')\n",
    "csvs = []\n",
    "# Loop through list to read in the files as a data frame\n",
    "\n",
    "for i in file_list:\n",
    "    # create file link\n",
    "    if \".\" not in i[0]:\n",
    "        path = \"../data/scrapes/\" + i\n",
    "    \n",
    "        # using created link read in csv file and save to list\n",
    "        csv = pd.read_csv(path)\n",
    "        csvs.append(csv)\n",
    "        \n",
    "# concatenate each file read\n",
    "print(f'The number of DataFrames loaded is: {len(csvs)}')\n",
    "df = pd.concat(csvs, axis=0)\n",
    "print(f'The size of merged DataFrame is: {df.shape}')\n",
    "\n",
    "# remove duplicate rows\n",
    "df = df.drop_duplicates()\n",
    "\n",
    "# Resetting index\n",
    "df = df.reset_index(drop=True)\n",
    "print(f'The size of reduced DataFrame is: {df.shape}')"
   ]
  },
  {
   "cell_type": "code",
   "execution_count": 3,
   "metadata": {},
   "outputs": [
    {
     "data": {
      "text/html": [
       "<div>\n",
       "<style scoped>\n",
       "    .dataframe tbody tr th:only-of-type {\n",
       "        vertical-align: middle;\n",
       "    }\n",
       "\n",
       "    .dataframe tbody tr th {\n",
       "        vertical-align: top;\n",
       "    }\n",
       "\n",
       "    .dataframe thead th {\n",
       "        text-align: right;\n",
       "    }\n",
       "</style>\n",
       "<table border=\"1\" class=\"dataframe\">\n",
       "  <thead>\n",
       "    <tr style=\"text-align: right;\">\n",
       "      <th></th>\n",
       "      <th>title</th>\n",
       "      <th>body</th>\n",
       "      <th>num_comments</th>\n",
       "      <th>upvote_ratio</th>\n",
       "      <th>url</th>\n",
       "      <th>elapsed_time</th>\n",
       "      <th>subreddit</th>\n",
       "    </tr>\n",
       "  </thead>\n",
       "  <tbody>\n",
       "    <tr>\n",
       "      <td>0</td>\n",
       "      <td>Week 6 Overperformers: Robby Anderson, Hunter ...</td>\n",
       "      <td>NaN</td>\n",
       "      <td>36</td>\n",
       "      <td>0.78</td>\n",
       "      <td>https://www.thefantasyfootballadvice.com/artic...</td>\n",
       "      <td>113.369934</td>\n",
       "      <td>r/fantasyfootball</td>\n",
       "    </tr>\n",
       "    <tr>\n",
       "      <td>1</td>\n",
       "      <td>Fantasy Football Week 7: Starts &amp; Sits</td>\n",
       "      <td>NaN</td>\n",
       "      <td>8</td>\n",
       "      <td>0.88</td>\n",
       "      <td>https://www.youtube.com/watch?v=bBNYQpk4ziQ</td>\n",
       "      <td>129.536600</td>\n",
       "      <td>r/fantasyfootball</td>\n",
       "    </tr>\n",
       "    <tr>\n",
       "      <td>2</td>\n",
       "      <td>2019 Accuracy Challenge Week 7</td>\n",
       "      <td>#####Accuracy Challenge Week 7\\n\\n\\n######How ...</td>\n",
       "      <td>0</td>\n",
       "      <td>0.67</td>\n",
       "      <td>https://www.reddit.com/r/fantasyfootball/comme...</td>\n",
       "      <td>137.136600</td>\n",
       "      <td>r/fantasyfootball</td>\n",
       "    </tr>\n",
       "    <tr>\n",
       "      <td>3</td>\n",
       "      <td>Based on the first 6 weeks, what does the firs...</td>\n",
       "      <td>Says me:\\n\\n1. CMC\\n2. Dalvin\\n3. Saquon\\n4. C...</td>\n",
       "      <td>112</td>\n",
       "      <td>0.52</td>\n",
       "      <td>https://www.reddit.com/r/fantasyfootball/comme...</td>\n",
       "      <td>235.953267</td>\n",
       "      <td>r/fantasyfootball</td>\n",
       "    </tr>\n",
       "    <tr>\n",
       "      <td>4</td>\n",
       "      <td>Joe Mixon has run 20 pass routes over the last...</td>\n",
       "      <td>NaN</td>\n",
       "      <td>52</td>\n",
       "      <td>0.88</td>\n",
       "      <td>https://twitter.com/GrahamBarfield/status/1184...</td>\n",
       "      <td>251.553267</td>\n",
       "      <td>r/fantasyfootball</td>\n",
       "    </tr>\n",
       "  </tbody>\n",
       "</table>\n",
       "</div>"
      ],
      "text/plain": [
       "                                               title  \\\n",
       "0  Week 6 Overperformers: Robby Anderson, Hunter ...   \n",
       "1             Fantasy Football Week 7: Starts & Sits   \n",
       "2                     2019 Accuracy Challenge Week 7   \n",
       "3  Based on the first 6 weeks, what does the firs...   \n",
       "4  Joe Mixon has run 20 pass routes over the last...   \n",
       "\n",
       "                                                body  num_comments  \\\n",
       "0                                                NaN            36   \n",
       "1                                                NaN             8   \n",
       "2  #####Accuracy Challenge Week 7\\n\\n\\n######How ...             0   \n",
       "3  Says me:\\n\\n1. CMC\\n2. Dalvin\\n3. Saquon\\n4. C...           112   \n",
       "4                                                NaN            52   \n",
       "\n",
       "   upvote_ratio                                                url  \\\n",
       "0          0.78  https://www.thefantasyfootballadvice.com/artic...   \n",
       "1          0.88        https://www.youtube.com/watch?v=bBNYQpk4ziQ   \n",
       "2          0.67  https://www.reddit.com/r/fantasyfootball/comme...   \n",
       "3          0.52  https://www.reddit.com/r/fantasyfootball/comme...   \n",
       "4          0.88  https://twitter.com/GrahamBarfield/status/1184...   \n",
       "\n",
       "   elapsed_time          subreddit  \n",
       "0    113.369934  r/fantasyfootball  \n",
       "1    129.536600  r/fantasyfootball  \n",
       "2    137.136600  r/fantasyfootball  \n",
       "3    235.953267  r/fantasyfootball  \n",
       "4    251.553267  r/fantasyfootball  "
      ]
     },
     "execution_count": 3,
     "metadata": {},
     "output_type": "execute_result"
    }
   ],
   "source": [
    "df.head()"
   ]
  },
  {
   "cell_type": "markdown",
   "metadata": {},
   "source": [
    "#### Removing rows that contain official"
   ]
  },
  {
   "cell_type": "code",
   "execution_count": 4,
   "metadata": {},
   "outputs": [],
   "source": [
    "omit_mask = df['title'].str.contains('Official:')"
   ]
  },
  {
   "cell_type": "markdown",
   "metadata": {},
   "source": [
    "* Noticed that there are reoccuring posts (bot threads) in the Fantasy Football Reddit that has \"Official:\" in the title.\n",
    "* These post watered down my text with meaningless words and text that wasn't relevant to analyzing football talk. \n",
    "* So I decided to delete rows that contains this text."
   ]
  },
  {
   "cell_type": "code",
   "execution_count": 5,
   "metadata": {},
   "outputs": [
    {
     "name": "stdout",
     "output_type": "stream",
     "text": [
      "There will be 1031 rows removed.\n"
     ]
    }
   ],
   "source": [
    "print(f'There will be {len(df[omit_mask])} rows removed.')"
   ]
  },
  {
   "cell_type": "code",
   "execution_count": 6,
   "metadata": {},
   "outputs": [],
   "source": [
    "df = df[~omit_mask]"
   ]
  },
  {
   "cell_type": "code",
   "execution_count": 7,
   "metadata": {},
   "outputs": [
    {
     "data": {
      "text/plain": [
       "(10819, 7)"
      ]
     },
     "execution_count": 7,
     "metadata": {},
     "output_type": "execute_result"
    }
   ],
   "source": [
    "df.shape"
   ]
  },
  {
   "cell_type": "code",
   "execution_count": 8,
   "metadata": {},
   "outputs": [
    {
     "data": {
      "text/plain": [
       "6486"
      ]
     },
     "execution_count": 8,
     "metadata": {},
     "output_type": "execute_result"
    }
   ],
   "source": [
    "df['body'].isnull().sum()"
   ]
  },
  {
   "cell_type": "code",
   "execution_count": 9,
   "metadata": {},
   "outputs": [],
   "source": [
    "df['body'].fillna(\"\", inplace=True)"
   ]
  },
  {
   "cell_type": "code",
   "execution_count": 10,
   "metadata": {},
   "outputs": [
    {
     "data": {
      "text/plain": [
       "0"
      ]
     },
     "execution_count": 10,
     "metadata": {},
     "output_type": "execute_result"
    }
   ],
   "source": [
    "df['body'].isnull().sum()"
   ]
  },
  {
   "cell_type": "code",
   "execution_count": 11,
   "metadata": {},
   "outputs": [
    {
     "data": {
      "text/plain": [
       "0"
      ]
     },
     "execution_count": 11,
     "metadata": {},
     "output_type": "execute_result"
    }
   ],
   "source": [
    "df['title'].isnull().sum()"
   ]
  },
  {
   "cell_type": "code",
   "execution_count": 12,
   "metadata": {},
   "outputs": [],
   "source": [
    "df['url_website'] = df['url'].apply(lambda x: x.split(\"/\")[2].split(\".\")[-2])"
   ]
  },
  {
   "cell_type": "code",
   "execution_count": 13,
   "metadata": {},
   "outputs": [
    {
     "data": {
      "text/plain": [
       "reddit                    0.428228\n",
       "twitter                   0.400961\n",
       "streamable                0.017192\n",
       "youtube                   0.015343\n",
       "youtu                     0.013587\n",
       "nbcsports                 0.013217\n",
       "clippituser               0.013217\n",
       "espn                      0.008688\n",
       "usatoday                  0.005546\n",
       "pro-football-reference    0.004437\n",
       "Name: url_website, dtype: float64"
      ]
     },
     "execution_count": 13,
     "metadata": {},
     "output_type": "execute_result"
    }
   ],
   "source": [
    "df['url_website'].value_counts(normalize=True).head(10)"
   ]
  },
  {
   "cell_type": "code",
   "execution_count": 14,
   "metadata": {},
   "outputs": [],
   "source": [
    "# Condensing Website to the 4 majority and bucketing the rest to other, because they have a smaller portion of the DataFrame designation.\n",
    "df['url_website'] = df['url_website'].map(lambda site: 'Reddit' if site == 'reddit' else ('Twitter' if site == 'twitter' else ('YouTube' if site == 'youtube' else ('YouTube' if site == 'youtu' else 'Other'))))"
   ]
  },
  {
   "cell_type": "code",
   "execution_count": 15,
   "metadata": {},
   "outputs": [
    {
     "data": {
      "text/plain": [
       "Reddit     0.428228\n",
       "Twitter    0.400961\n",
       "Other      0.141880\n",
       "YouTube    0.028931\n",
       "Name: url_website, dtype: float64"
      ]
     },
     "execution_count": 15,
     "metadata": {},
     "output_type": "execute_result"
    }
   ],
   "source": [
    "df['url_website'].value_counts(normalize=True)"
   ]
  },
  {
   "cell_type": "code",
   "execution_count": 16,
   "metadata": {},
   "outputs": [],
   "source": [
    "df['all_text'] = df['title'] + df['body']"
   ]
  },
  {
   "cell_type": "code",
   "execution_count": 17,
   "metadata": {
    "scrolled": true
   },
   "outputs": [],
   "source": [
    "# Binorizing body column on whether or not it has text in the body and creating a new column\n",
    "df['text_in_body'] = [0 if item == \"\" else 1 for item in df['body']]"
   ]
  },
  {
   "cell_type": "markdown",
   "metadata": {},
   "source": [
    "Creating word count & character count columns"
   ]
  },
  {
   "cell_type": "code",
   "execution_count": 18,
   "metadata": {},
   "outputs": [],
   "source": [
    "df['word_count'] = df['all_text'].apply(lambda x: len(x.split()))"
   ]
  },
  {
   "cell_type": "code",
   "execution_count": 19,
   "metadata": {},
   "outputs": [],
   "source": [
    "df['char_count'] = df['all_text'].apply(len)"
   ]
  },
  {
   "cell_type": "code",
   "execution_count": 20,
   "metadata": {},
   "outputs": [
    {
     "data": {
      "text/plain": [
       "r/nfl                5867\n",
       "r/fantasyfootball    4952\n",
       "Name: subreddit, dtype: int64"
      ]
     },
     "execution_count": 20,
     "metadata": {},
     "output_type": "execute_result"
    }
   ],
   "source": [
    "df['subreddit'].value_counts()"
   ]
  },
  {
   "cell_type": "code",
   "execution_count": 180,
   "metadata": {},
   "outputs": [
    {
     "data": {
      "text/plain": [
       "r/nfl                0.542287\n",
       "r/fantasyfootball    0.457713\n",
       "Name: subreddit, dtype: float64"
      ]
     },
     "execution_count": 180,
     "metadata": {},
     "output_type": "execute_result"
    }
   ],
   "source": [
    "df['subreddit'].value_counts(normalize=True)"
   ]
  },
  {
   "cell_type": "code",
   "execution_count": 21,
   "metadata": {},
   "outputs": [],
   "source": [
    "# Binorizing subreddit type and creating a target column\n",
    "df['pred_target'] = [1 if item == 'r/fantasyfootball' else 0 for item in df['subreddit']]"
   ]
  },
  {
   "cell_type": "code",
   "execution_count": 22,
   "metadata": {},
   "outputs": [
    {
     "data": {
      "text/plain": [
       "(10819, 13)"
      ]
     },
     "execution_count": 22,
     "metadata": {},
     "output_type": "execute_result"
    }
   ],
   "source": [
    "df.shape"
   ]
  },
  {
   "cell_type": "code",
   "execution_count": 23,
   "metadata": {},
   "outputs": [
    {
     "data": {
      "text/html": [
       "<div>\n",
       "<style scoped>\n",
       "    .dataframe tbody tr th:only-of-type {\n",
       "        vertical-align: middle;\n",
       "    }\n",
       "\n",
       "    .dataframe tbody tr th {\n",
       "        vertical-align: top;\n",
       "    }\n",
       "\n",
       "    .dataframe thead th {\n",
       "        text-align: right;\n",
       "    }\n",
       "</style>\n",
       "<table border=\"1\" class=\"dataframe\">\n",
       "  <thead>\n",
       "    <tr style=\"text-align: right;\">\n",
       "      <th></th>\n",
       "      <th>title</th>\n",
       "      <th>body</th>\n",
       "      <th>num_comments</th>\n",
       "      <th>upvote_ratio</th>\n",
       "      <th>url</th>\n",
       "      <th>elapsed_time</th>\n",
       "      <th>subreddit</th>\n",
       "      <th>url_website</th>\n",
       "      <th>all_text</th>\n",
       "      <th>text_in_body</th>\n",
       "      <th>word_count</th>\n",
       "      <th>char_count</th>\n",
       "      <th>pred_target</th>\n",
       "    </tr>\n",
       "  </thead>\n",
       "  <tbody>\n",
       "    <tr>\n",
       "      <td>0</td>\n",
       "      <td>Week 6 Overperformers: Robby Anderson, Hunter ...</td>\n",
       "      <td></td>\n",
       "      <td>36</td>\n",
       "      <td>0.78</td>\n",
       "      <td>https://www.thefantasyfootballadvice.com/artic...</td>\n",
       "      <td>113.369934</td>\n",
       "      <td>r/fantasyfootball</td>\n",
       "      <td>Other</td>\n",
       "      <td>Week 6 Overperformers: Robby Anderson, Hunter ...</td>\n",
       "      <td>0</td>\n",
       "      <td>9</td>\n",
       "      <td>61</td>\n",
       "      <td>1</td>\n",
       "    </tr>\n",
       "    <tr>\n",
       "      <td>1</td>\n",
       "      <td>Fantasy Football Week 7: Starts &amp; Sits</td>\n",
       "      <td></td>\n",
       "      <td>8</td>\n",
       "      <td>0.88</td>\n",
       "      <td>https://www.youtube.com/watch?v=bBNYQpk4ziQ</td>\n",
       "      <td>129.536600</td>\n",
       "      <td>r/fantasyfootball</td>\n",
       "      <td>YouTube</td>\n",
       "      <td>Fantasy Football Week 7: Starts &amp; Sits</td>\n",
       "      <td>0</td>\n",
       "      <td>7</td>\n",
       "      <td>38</td>\n",
       "      <td>1</td>\n",
       "    </tr>\n",
       "    <tr>\n",
       "      <td>2</td>\n",
       "      <td>2019 Accuracy Challenge Week 7</td>\n",
       "      <td>#####Accuracy Challenge Week 7\\n\\n\\n######How ...</td>\n",
       "      <td>0</td>\n",
       "      <td>0.67</td>\n",
       "      <td>https://www.reddit.com/r/fantasyfootball/comme...</td>\n",
       "      <td>137.136600</td>\n",
       "      <td>r/fantasyfootball</td>\n",
       "      <td>Reddit</td>\n",
       "      <td>2019 Accuracy Challenge Week 7#####Accuracy Ch...</td>\n",
       "      <td>1</td>\n",
       "      <td>735</td>\n",
       "      <td>4736</td>\n",
       "      <td>1</td>\n",
       "    </tr>\n",
       "    <tr>\n",
       "      <td>3</td>\n",
       "      <td>Based on the first 6 weeks, what does the firs...</td>\n",
       "      <td>Says me:\\n\\n1. CMC\\n2. Dalvin\\n3. Saquon\\n4. C...</td>\n",
       "      <td>112</td>\n",
       "      <td>0.52</td>\n",
       "      <td>https://www.reddit.com/r/fantasyfootball/comme...</td>\n",
       "      <td>235.953267</td>\n",
       "      <td>r/fantasyfootball</td>\n",
       "      <td>Reddit</td>\n",
       "      <td>Based on the first 6 weeks, what does the firs...</td>\n",
       "      <td>1</td>\n",
       "      <td>39</td>\n",
       "      <td>183</td>\n",
       "      <td>1</td>\n",
       "    </tr>\n",
       "    <tr>\n",
       "      <td>4</td>\n",
       "      <td>Joe Mixon has run 20 pass routes over the last...</td>\n",
       "      <td></td>\n",
       "      <td>52</td>\n",
       "      <td>0.88</td>\n",
       "      <td>https://twitter.com/GrahamBarfield/status/1184...</td>\n",
       "      <td>251.553267</td>\n",
       "      <td>r/fantasyfootball</td>\n",
       "      <td>Twitter</td>\n",
       "      <td>Joe Mixon has run 20 pass routes over the last...</td>\n",
       "      <td>0</td>\n",
       "      <td>31</td>\n",
       "      <td>167</td>\n",
       "      <td>1</td>\n",
       "    </tr>\n",
       "  </tbody>\n",
       "</table>\n",
       "</div>"
      ],
      "text/plain": [
       "                                               title  \\\n",
       "0  Week 6 Overperformers: Robby Anderson, Hunter ...   \n",
       "1             Fantasy Football Week 7: Starts & Sits   \n",
       "2                     2019 Accuracy Challenge Week 7   \n",
       "3  Based on the first 6 weeks, what does the firs...   \n",
       "4  Joe Mixon has run 20 pass routes over the last...   \n",
       "\n",
       "                                                body  num_comments  \\\n",
       "0                                                               36   \n",
       "1                                                                8   \n",
       "2  #####Accuracy Challenge Week 7\\n\\n\\n######How ...             0   \n",
       "3  Says me:\\n\\n1. CMC\\n2. Dalvin\\n3. Saquon\\n4. C...           112   \n",
       "4                                                               52   \n",
       "\n",
       "   upvote_ratio                                                url  \\\n",
       "0          0.78  https://www.thefantasyfootballadvice.com/artic...   \n",
       "1          0.88        https://www.youtube.com/watch?v=bBNYQpk4ziQ   \n",
       "2          0.67  https://www.reddit.com/r/fantasyfootball/comme...   \n",
       "3          0.52  https://www.reddit.com/r/fantasyfootball/comme...   \n",
       "4          0.88  https://twitter.com/GrahamBarfield/status/1184...   \n",
       "\n",
       "   elapsed_time          subreddit url_website  \\\n",
       "0    113.369934  r/fantasyfootball       Other   \n",
       "1    129.536600  r/fantasyfootball     YouTube   \n",
       "2    137.136600  r/fantasyfootball      Reddit   \n",
       "3    235.953267  r/fantasyfootball      Reddit   \n",
       "4    251.553267  r/fantasyfootball     Twitter   \n",
       "\n",
       "                                            all_text  text_in_body  \\\n",
       "0  Week 6 Overperformers: Robby Anderson, Hunter ...             0   \n",
       "1             Fantasy Football Week 7: Starts & Sits             0   \n",
       "2  2019 Accuracy Challenge Week 7#####Accuracy Ch...             1   \n",
       "3  Based on the first 6 weeks, what does the firs...             1   \n",
       "4  Joe Mixon has run 20 pass routes over the last...             0   \n",
       "\n",
       "   word_count  char_count  pred_target  \n",
       "0           9          61            1  \n",
       "1           7          38            1  \n",
       "2         735        4736            1  \n",
       "3          39         183            1  \n",
       "4          31         167            1  "
      ]
     },
     "execution_count": 23,
     "metadata": {},
     "output_type": "execute_result"
    }
   ],
   "source": [
    "df.head()"
   ]
  },
  {
   "cell_type": "markdown",
   "metadata": {},
   "source": [
    "### Analysis/EDA"
   ]
  },
  {
   "cell_type": "markdown",
   "metadata": {},
   "source": [
    "### Sentiment Analysis"
   ]
  },
  {
   "cell_type": "code",
   "execution_count": 24,
   "metadata": {},
   "outputs": [],
   "source": [
    "# instantiate the sentiment analyzer\n",
    "sia = SentimentIntensityAnalyzer()"
   ]
  },
  {
   "cell_type": "code",
   "execution_count": 25,
   "metadata": {},
   "outputs": [],
   "source": [
    "# Write a function to get the compound sentiment scores for a post\n",
    "def sent_compound(text):\n",
    "    return sia.polarity_scores(text)['compound']"
   ]
  },
  {
   "cell_type": "code",
   "execution_count": 26,
   "metadata": {},
   "outputs": [],
   "source": [
    "# apply the function to the entire df\n",
    "df['sentiment'] = df['all_text'].apply(sent_compound)"
   ]
  },
  {
   "cell_type": "code",
   "execution_count": 149,
   "metadata": {},
   "outputs": [
    {
     "data": {
      "image/png": "[encoded data removed]",
      "text/plain": [
       "<Figure size 1008x720 with 1 Axes>"
      ]
     },
     "metadata": {
      "needs_background": "light"
     },
     "output_type": "display_data"
    }
   ],
   "source": [
    "plt.figure(figsize=(14,10))\n",
    "df.groupby('subreddit')['sentiment'].hist(bins=30);\n",
    "plt.title(\"Distribution of sentiment by Subreddit\", fontsize = 18);\n",
    "plt.legend(['fantasy football', 'nfl']);"
   ]
  },
  {
   "cell_type": "code",
   "execution_count": 152,
   "metadata": {},
   "outputs": [
    {
     "data": {
      "text/plain": [
       "Text(0.5, 1.0, 'Boxplot of sentiment by Subreddit')"
      ]
     },
     "execution_count": 152,
     "metadata": {},
     "output_type": "execute_result"
    },
    {
     "data": {
      "image/png": "[encoded data removed]",
      "text/plain": [
       "<Figure size 576x576 with 1 Axes>"
      ]
     },
     "metadata": {
      "needs_background": "light"
     },
     "output_type": "display_data"
    }
   ],
   "source": [
    "# Boxplot of Sentiment\n",
    "plt.figure(figsize=(8,8))\n",
    "sns.plotting_context(context=None, font_scale=1.5)\n",
    "sns.boxplot(x=df[\"subreddit\"], y=df[\"sentiment\"])\n",
    "plt.title(\"Boxplot of sentiment by Subreddit\", fontsize = 18);"
   ]
  },
  {
   "cell_type": "code",
   "execution_count": 41,
   "metadata": {},
   "outputs": [],
   "source": [
    "X = df['all_text']\n",
    "y = df['pred_target']"
   ]
  },
  {
   "cell_type": "code",
   "execution_count": 178,
   "metadata": {},
   "outputs": [
    {
     "data": {
      "image/png": "[encoded data removed]",
      "text/plain": [
       "<Figure size 1008x720 with 1 Axes>"
      ]
     },
     "metadata": {
      "needs_background": "light"
     },
     "output_type": "display_data"
    }
   ],
   "source": [
    "# Histogram of Character Count\n",
    "mask = (df['pred_target'] == 1)\n",
    "plt.figure(figsize=(14,10))\n",
    "plt.hist([df[mask]['char_count'], df[~mask]['char_count']],\n",
    "         bins = 20);\n",
    "\n",
    "plt.legend(['fantasy football', 'nfl']);\n",
    "plt.title(\"Distribution of Character Count by Subreddit\", fontsize = 18);"
   ]
  },
  {
   "cell_type": "code",
   "execution_count": 174,
   "metadata": {},
   "outputs": [
    {
     "data": {
      "image/png": "[encoded data removed]",
      "text/plain": [
       "<Figure size 1008x720 with 1 Axes>"
      ]
     },
     "metadata": {
      "needs_background": "light"
     },
     "output_type": "display_data"
    }
   ],
   "source": [
    "# histogram of word counts\n",
    "plt.figure(figsize=(14,10))\n",
    "plt.hist([df[mask]['word_count'], df[~mask]['word_count']],\n",
    "         bins = 20);\n",
    "\n",
    "plt.legend(['fantasy football', 'nfl']);\n",
    "plt.title(\"Distribution of Word Count by Subreddit\", fontsize = 18);"
   ]
  },
  {
   "cell_type": "code",
   "execution_count": 175,
   "metadata": {},
   "outputs": [
    {
     "data": {
      "image/png": "[encoded data removed]",
      "text/plain": [
       "<Figure size 1008x720 with 1 Axes>"
      ]
     },
     "metadata": {
      "needs_background": "light"
     },
     "output_type": "display_data"
    }
   ],
   "source": [
    "# Draw a histogram of number of comments\n",
    "plt.figure(figsize=(14,10))\n",
    "plt.hist([df[mask]['num_comments'], df[~mask]['num_comments']],\n",
    "         bins = 25);\n",
    "\n",
    "plt.legend(['fantasy football', 'nfl']);\n",
    "plt.title(\"Distribution of Number of Comments by Subreddit\", fontsize = 18);"
   ]
  },
  {
   "cell_type": "code",
   "execution_count": 158,
   "metadata": {},
   "outputs": [
    {
     "data": {
      "image/png": "[encoded data removed]",
      "text/plain": [
       "<Figure size 1008x720 with 1 Axes>"
      ]
     },
     "metadata": {
      "needs_background": "light"
     },
     "output_type": "display_data"
    }
   ],
   "source": [
    "# Draw a histogram of upvote ratio\n",
    "plt.figure(figsize=(14,10))\n",
    "plt.hist([df[mask]['upvote_ratio'],df[~mask]['upvote_ratio']]);\n",
    "\n",
    "plt.legend(['fantasy football', 'nfl']);\n",
    "plt.title(\"Distribution of upvote ratio by Subreddit\", fontsize = 18);"
   ]
  },
  {
   "cell_type": "code",
   "execution_count": 46,
   "metadata": {},
   "outputs": [
    {
     "data": {
      "text/plain": [
       "0    0.542287\n",
       "1    0.457713\n",
       "Name: pred_target, dtype: float64"
      ]
     },
     "execution_count": 46,
     "metadata": {},
     "output_type": "execute_result"
    }
   ],
   "source": [
    "df['pred_target'].value_counts(normalize=True)"
   ]
  },
  {
   "cell_type": "code",
   "execution_count": 47,
   "metadata": {},
   "outputs": [
    {
     "data": {
      "text/plain": [
       "0    6486\n",
       "1    4333\n",
       "Name: text_in_body, dtype: int64"
      ]
     },
     "execution_count": 47,
     "metadata": {},
     "output_type": "execute_result"
    }
   ],
   "source": [
    "df['text_in_body'].value_counts()"
   ]
  },
  {
   "cell_type": "code",
   "execution_count": 159,
   "metadata": {},
   "outputs": [
    {
     "data": {
      "image/png": "[encoded data removed]",
      "text/plain": [
       "<Figure size 720x504 with 1 Axes>"
      ]
     },
     "metadata": {
      "needs_background": "light"
     },
     "output_type": "display_data"
    }
   ],
   "source": [
    "plt.figure(figsize=(10,7))\n",
    "sns.countplot(x=\"subreddit\", hue=\"text_in_body\", data=df)\n",
    "plt.title(\"Barchart of posts with body text vs posts with none by Subreddit\", fontsize = 18);"
   ]
  },
  {
   "cell_type": "code",
   "execution_count": 161,
   "metadata": {},
   "outputs": [
    {
     "data": {
      "image/png": "[encoded data removed]",
      "text/plain": [
       "<Figure size 720x504 with 1 Axes>"
      ]
     },
     "metadata": {
      "needs_background": "light"
     },
     "output_type": "display_data"
    }
   ],
   "source": [
    "# web_plot = df[df[\"url_website\"] > 10]\n",
    "plt.figure(figsize=(10,7))\n",
    "sns.countplot(x=\"url_website\", data=df, order=['Reddit','Twitter','Other','YouTube']);\n",
    "plt.title(\"Barchart frequency of Websites most included in urls\", fontsize = 18);"
   ]
  },
  {
   "cell_type": "markdown",
   "metadata": {},
   "source": [
    "### Stop Words"
   ]
  },
  {
   "cell_type": "code",
   "execution_count": 50,
   "metadata": {},
   "outputs": [],
   "source": [
    "custom_stop = list(ENGLISH_STOP_WORDS)\n",
    "reddit_omit = ['comments','comment','https','fantasyfootball','help','thread','questions','league',\n",
    "               'com','helped','following','users','threads','user','table','wdis','week','people','www','reddit','fantasy']\n",
    "custom_stop.extend(reddit_omit)"
   ]
  },
  {
   "cell_type": "code",
   "execution_count": 51,
   "metadata": {
    "collapsed": true
   },
   "outputs": [
    {
     "data": {
      "text/plain": [
       "['still',\n",
       " 'same',\n",
       " 'whom',\n",
       " 'its',\n",
       " 'serious',\n",
       " 'back',\n",
       " 'fire',\n",
       " 'because',\n",
       " 'much',\n",
       " 'me',\n",
       " 'besides',\n",
       " 'upon',\n",
       " 'put',\n",
       " 'never',\n",
       " 'what',\n",
       " 'must',\n",
       " 'anywhere',\n",
       " 'front',\n",
       " 'here',\n",
       " 'thick',\n",
       " 'now',\n",
       " 'or',\n",
       " 'again',\n",
       " 'were',\n",
       " 'hence',\n",
       " 'of',\n",
       " 'first',\n",
       " 'hers',\n",
       " 'i',\n",
       " 'becomes',\n",
       " 'more',\n",
       " 'beside',\n",
       " 'do',\n",
       " 'twelve',\n",
       " 'had',\n",
       " 'eleven',\n",
       " 'found',\n",
       " 'together',\n",
       " 'from',\n",
       " 'can',\n",
       " 'themselves',\n",
       " 'throughout',\n",
       " 'along',\n",
       " 'would',\n",
       " 'such',\n",
       " 'thus',\n",
       " 'part',\n",
       " 'any',\n",
       " 'hundred',\n",
       " 'there',\n",
       " 'four',\n",
       " 'seems',\n",
       " 'thence',\n",
       " 'per',\n",
       " 'show',\n",
       " 'amount',\n",
       " 'anything',\n",
       " 'become',\n",
       " 'namely',\n",
       " 'either',\n",
       " 'few',\n",
       " 'eg',\n",
       " 'her',\n",
       " 'thereupon',\n",
       " 'under',\n",
       " 'each',\n",
       " 'if',\n",
       " 'my',\n",
       " 'through',\n",
       " 'became',\n",
       " 'bill',\n",
       " 'above',\n",
       " 'before',\n",
       " 'already',\n",
       " 'over',\n",
       " 'de',\n",
       " 'former',\n",
       " 'the',\n",
       " 'between',\n",
       " 'via',\n",
       " 'might',\n",
       " 'himself',\n",
       " 'among',\n",
       " 'anyway',\n",
       " 'well',\n",
       " 'describe',\n",
       " 'move',\n",
       " 'fifteen',\n",
       " 'empty',\n",
       " 'name',\n",
       " 'been',\n",
       " 'rather',\n",
       " 'cannot',\n",
       " 'latter',\n",
       " 'always',\n",
       " 'couldnt',\n",
       " 'latterly',\n",
       " 'beforehand',\n",
       " 'who',\n",
       " 'somehow',\n",
       " 'fifty',\n",
       " 'nine',\n",
       " 'these',\n",
       " 'bottom',\n",
       " 'for',\n",
       " 'indeed',\n",
       " 'they',\n",
       " 'fill',\n",
       " 'itself',\n",
       " 'everywhere',\n",
       " 'see',\n",
       " 'almost',\n",
       " 'without',\n",
       " 'mill',\n",
       " 'should',\n",
       " 'up',\n",
       " 'down',\n",
       " 'perhaps',\n",
       " 'get',\n",
       " 'only',\n",
       " 'nor',\n",
       " 'therein',\n",
       " 'whereas',\n",
       " 'with',\n",
       " 'mine',\n",
       " 'go',\n",
       " 'etc',\n",
       " 'our',\n",
       " 'many',\n",
       " 'give',\n",
       " 'although',\n",
       " 'your',\n",
       " 'whose',\n",
       " 'myself',\n",
       " 'even',\n",
       " 'another',\n",
       " 'we',\n",
       " 'so',\n",
       " 'whereby',\n",
       " 'onto',\n",
       " 'yours',\n",
       " 'also',\n",
       " 'everyone',\n",
       " 'to',\n",
       " 'then',\n",
       " 'within',\n",
       " 'how',\n",
       " 'seeming',\n",
       " 'his',\n",
       " 'are',\n",
       " 'inc',\n",
       " 'herein',\n",
       " 'am',\n",
       " 'one',\n",
       " 'con',\n",
       " 'nevertheless',\n",
       " 'being',\n",
       " 'none',\n",
       " 'have',\n",
       " 'seem',\n",
       " 'except',\n",
       " 'top',\n",
       " 'whereafter',\n",
       " 'you',\n",
       " 'due',\n",
       " 'him',\n",
       " 'some',\n",
       " 'eight',\n",
       " 'against',\n",
       " 'not',\n",
       " 'call',\n",
       " 'please',\n",
       " 'next',\n",
       " 'whenever',\n",
       " 'ours',\n",
       " 'forty',\n",
       " 'becoming',\n",
       " 'last',\n",
       " 'and',\n",
       " 'noone',\n",
       " 'formerly',\n",
       " 'six',\n",
       " 'them',\n",
       " 'behind',\n",
       " 'nobody',\n",
       " 'no',\n",
       " 'at',\n",
       " 'is',\n",
       " 'else',\n",
       " 'take',\n",
       " 'whither',\n",
       " 'be',\n",
       " 'thin',\n",
       " 'otherwise',\n",
       " 'everything',\n",
       " 'out',\n",
       " 'but',\n",
       " 'a',\n",
       " 'herself',\n",
       " 'amongst',\n",
       " 'seemed',\n",
       " 'those',\n",
       " 'hasnt',\n",
       " 'us',\n",
       " 'ourselves',\n",
       " 'when',\n",
       " 'third',\n",
       " 'ten',\n",
       " 'ever',\n",
       " 'side',\n",
       " 'made',\n",
       " 'across',\n",
       " 'though',\n",
       " 'interest',\n",
       " 'several',\n",
       " 'may',\n",
       " 'thru',\n",
       " 'two',\n",
       " 'find',\n",
       " 'thereafter',\n",
       " 'every',\n",
       " 'as',\n",
       " 'beyond',\n",
       " 'most',\n",
       " 'hereby',\n",
       " 'yet',\n",
       " 'very',\n",
       " 'which',\n",
       " 'less',\n",
       " 'both',\n",
       " 'sincere',\n",
       " 'whatever',\n",
       " 'three',\n",
       " 'whole',\n",
       " 'by',\n",
       " 'will',\n",
       " 'whether',\n",
       " 'after',\n",
       " 'during',\n",
       " 'full',\n",
       " 'hereafter',\n",
       " 'elsewhere',\n",
       " 'ie',\n",
       " 'un',\n",
       " 'detail',\n",
       " 'she',\n",
       " 'towards',\n",
       " 'nowhere',\n",
       " 'afterwards',\n",
       " 'cry',\n",
       " 'toward',\n",
       " 'twenty',\n",
       " 'an',\n",
       " 'hereupon',\n",
       " 'system',\n",
       " 'while',\n",
       " 'whoever',\n",
       " 'other',\n",
       " 'sometime',\n",
       " 'somewhere',\n",
       " 'cant',\n",
       " 'amoungst',\n",
       " 'wherein',\n",
       " 'than',\n",
       " 'nothing',\n",
       " 'own',\n",
       " 'wherever',\n",
       " 'sometimes',\n",
       " 'therefore',\n",
       " 'yourself',\n",
       " 'yourselves',\n",
       " 'why',\n",
       " 'that',\n",
       " 'neither',\n",
       " 'in',\n",
       " 'anyhow',\n",
       " 'this',\n",
       " 'sixty',\n",
       " 'moreover',\n",
       " 'ltd',\n",
       " 'their',\n",
       " 'it',\n",
       " 'since',\n",
       " 'could',\n",
       " 'he',\n",
       " 'about',\n",
       " 'done',\n",
       " 'thereby',\n",
       " 'least',\n",
       " 'meanwhile',\n",
       " 'off',\n",
       " 'anyone',\n",
       " 'around',\n",
       " 'on',\n",
       " 're',\n",
       " 'someone',\n",
       " 'further',\n",
       " 'alone',\n",
       " 'too',\n",
       " 'has',\n",
       " 'others',\n",
       " 'enough',\n",
       " 'where',\n",
       " 'keep',\n",
       " 'whereupon',\n",
       " 'something',\n",
       " 'once',\n",
       " 'however',\n",
       " 'often',\n",
       " 'below',\n",
       " 'into',\n",
       " 'until',\n",
       " 'five',\n",
       " 'whence',\n",
       " 'all',\n",
       " 'mostly',\n",
       " 'was',\n",
       " 'co',\n",
       " 'comments',\n",
       " 'comment',\n",
       " 'https',\n",
       " 'fantasyfootball',\n",
       " 'help',\n",
       " 'thread',\n",
       " 'questions',\n",
       " 'league',\n",
       " 'com',\n",
       " 'helped',\n",
       " 'following',\n",
       " 'users',\n",
       " 'threads',\n",
       " 'user',\n",
       " 'table',\n",
       " 'wdis',\n",
       " 'week',\n",
       " 'people',\n",
       " 'www',\n",
       " 'reddit',\n",
       " 'fantasy']"
      ]
     },
     "execution_count": 51,
     "metadata": {},
     "output_type": "execute_result"
    }
   ],
   "source": [
    "custom_stop"
   ]
  },
  {
   "cell_type": "markdown",
   "metadata": {},
   "source": [
    "* I am including stop words that is very heavy to one side of one reddit or another. Also excluding obvious words (e.g. fantasyfootball)"
   ]
  },
  {
   "cell_type": "markdown",
   "metadata": {},
   "source": [
    "## Vectorizer Transformations"
   ]
  },
  {
   "cell_type": "markdown",
   "metadata": {},
   "source": [
    "### Count Vectorizer"
   ]
  },
  {
   "cell_type": "markdown",
   "metadata": {},
   "source": [
    "### Unigram"
   ]
  },
  {
   "cell_type": "code",
   "execution_count": 52,
   "metadata": {},
   "outputs": [],
   "source": [
    "# Initialize the CountVectorizer\n",
    "cvec = CountVectorizer(stop_words=custom_stop, max_df = 0.90, min_df=1, ngram_range=(1,1))"
   ]
  },
  {
   "cell_type": "code",
   "execution_count": 53,
   "metadata": {},
   "outputs": [],
   "source": [
    "word_matrix = cvec.fit_transform(df['all_text'])"
   ]
  },
  {
   "cell_type": "code",
   "execution_count": 54,
   "metadata": {},
   "outputs": [
    {
     "data": {
      "text/plain": [
       "13970"
      ]
     },
     "execution_count": 54,
     "metadata": {},
     "output_type": "execute_result"
    }
   ],
   "source": [
    "# This is the number of unique words, exluding the limitations we initially put in\n",
    "len(cvec.get_feature_names())"
   ]
  },
  {
   "cell_type": "code",
   "execution_count": 55,
   "metadata": {},
   "outputs": [
    {
     "data": {
      "text/html": [
       "<div>\n",
       "<style scoped>\n",
       "    .dataframe tbody tr th:only-of-type {\n",
       "        vertical-align: middle;\n",
       "    }\n",
       "\n",
       "    .dataframe tbody tr th {\n",
       "        vertical-align: top;\n",
       "    }\n",
       "\n",
       "    .dataframe thead th {\n",
       "        text-align: right;\n",
       "    }\n",
       "</style>\n",
       "<table border=\"1\" class=\"dataframe\">\n",
       "  <thead>\n",
       "    <tr style=\"text-align: right;\">\n",
       "      <th></th>\n",
       "      <th>00</th>\n",
       "      <th>000</th>\n",
       "      <th>000ft</th>\n",
       "      <th>001</th>\n",
       "      <th>003</th>\n",
       "      <th>006</th>\n",
       "      <th>007</th>\n",
       "      <th>01</th>\n",
       "      <th>011</th>\n",
       "      <th>012</th>\n",
       "      <th>...</th>\n",
       "      <th>zkclcdt2qoa</th>\n",
       "      <th>znmyb6q</th>\n",
       "      <th>zone</th>\n",
       "      <th>zoned</th>\n",
       "      <th>zoo</th>\n",
       "      <th>zoolander</th>\n",
       "      <th>zoom</th>\n",
       "      <th>zrebiec</th>\n",
       "      <th>zuerlein</th>\n",
       "      <th>ಠ_ಠ</th>\n",
       "    </tr>\n",
       "  </thead>\n",
       "  <tbody>\n",
       "    <tr>\n",
       "      <td>0</td>\n",
       "      <td>0</td>\n",
       "      <td>0</td>\n",
       "      <td>0</td>\n",
       "      <td>0</td>\n",
       "      <td>0</td>\n",
       "      <td>0</td>\n",
       "      <td>0</td>\n",
       "      <td>0</td>\n",
       "      <td>0</td>\n",
       "      <td>0</td>\n",
       "      <td>...</td>\n",
       "      <td>0</td>\n",
       "      <td>0</td>\n",
       "      <td>0</td>\n",
       "      <td>0</td>\n",
       "      <td>0</td>\n",
       "      <td>0</td>\n",
       "      <td>0</td>\n",
       "      <td>0</td>\n",
       "      <td>0</td>\n",
       "      <td>0</td>\n",
       "    </tr>\n",
       "    <tr>\n",
       "      <td>1</td>\n",
       "      <td>0</td>\n",
       "      <td>0</td>\n",
       "      <td>0</td>\n",
       "      <td>0</td>\n",
       "      <td>0</td>\n",
       "      <td>0</td>\n",
       "      <td>0</td>\n",
       "      <td>0</td>\n",
       "      <td>0</td>\n",
       "      <td>0</td>\n",
       "      <td>...</td>\n",
       "      <td>0</td>\n",
       "      <td>0</td>\n",
       "      <td>0</td>\n",
       "      <td>0</td>\n",
       "      <td>0</td>\n",
       "      <td>0</td>\n",
       "      <td>0</td>\n",
       "      <td>0</td>\n",
       "      <td>0</td>\n",
       "      <td>0</td>\n",
       "    </tr>\n",
       "    <tr>\n",
       "      <td>2</td>\n",
       "      <td>0</td>\n",
       "      <td>0</td>\n",
       "      <td>0</td>\n",
       "      <td>0</td>\n",
       "      <td>0</td>\n",
       "      <td>0</td>\n",
       "      <td>0</td>\n",
       "      <td>0</td>\n",
       "      <td>0</td>\n",
       "      <td>0</td>\n",
       "      <td>...</td>\n",
       "      <td>0</td>\n",
       "      <td>0</td>\n",
       "      <td>0</td>\n",
       "      <td>0</td>\n",
       "      <td>0</td>\n",
       "      <td>0</td>\n",
       "      <td>0</td>\n",
       "      <td>0</td>\n",
       "      <td>0</td>\n",
       "      <td>0</td>\n",
       "    </tr>\n",
       "    <tr>\n",
       "      <td>3</td>\n",
       "      <td>0</td>\n",
       "      <td>0</td>\n",
       "      <td>0</td>\n",
       "      <td>0</td>\n",
       "      <td>0</td>\n",
       "      <td>0</td>\n",
       "      <td>0</td>\n",
       "      <td>0</td>\n",
       "      <td>0</td>\n",
       "      <td>0</td>\n",
       "      <td>...</td>\n",
       "      <td>0</td>\n",
       "      <td>0</td>\n",
       "      <td>0</td>\n",
       "      <td>0</td>\n",
       "      <td>0</td>\n",
       "      <td>0</td>\n",
       "      <td>0</td>\n",
       "      <td>0</td>\n",
       "      <td>0</td>\n",
       "      <td>0</td>\n",
       "    </tr>\n",
       "    <tr>\n",
       "      <td>4</td>\n",
       "      <td>0</td>\n",
       "      <td>0</td>\n",
       "      <td>0</td>\n",
       "      <td>0</td>\n",
       "      <td>0</td>\n",
       "      <td>0</td>\n",
       "      <td>0</td>\n",
       "      <td>0</td>\n",
       "      <td>0</td>\n",
       "      <td>0</td>\n",
       "      <td>...</td>\n",
       "      <td>0</td>\n",
       "      <td>0</td>\n",
       "      <td>0</td>\n",
       "      <td>0</td>\n",
       "      <td>0</td>\n",
       "      <td>0</td>\n",
       "      <td>0</td>\n",
       "      <td>0</td>\n",
       "      <td>0</td>\n",
       "      <td>0</td>\n",
       "    </tr>\n",
       "  </tbody>\n",
       "</table>\n",
       "<p>5 rows × 13970 columns</p>\n",
       "</div>"
      ],
      "text/plain": [
       "   00  000  000ft  001  003  006  007  01  011  012  ...  zkclcdt2qoa  \\\n",
       "0   0    0      0    0    0    0    0   0    0    0  ...            0   \n",
       "1   0    0      0    0    0    0    0   0    0    0  ...            0   \n",
       "2   0    0      0    0    0    0    0   0    0    0  ...            0   \n",
       "3   0    0      0    0    0    0    0   0    0    0  ...            0   \n",
       "4   0    0      0    0    0    0    0   0    0    0  ...            0   \n",
       "\n",
       "   znmyb6q  zone  zoned  zoo  zoolander  zoom  zrebiec  zuerlein  ಠ_ಠ  \n",
       "0        0     0      0    0          0     0        0         0    0  \n",
       "1        0     0      0    0          0     0        0         0    0  \n",
       "2        0     0      0    0          0     0        0         0    0  \n",
       "3        0     0      0    0          0     0        0         0    0  \n",
       "4        0     0      0    0          0     0        0         0    0  \n",
       "\n",
       "[5 rows x 13970 columns]"
      ]
     },
     "execution_count": 55,
     "metadata": {},
     "output_type": "execute_result"
    }
   ],
   "source": [
    "word_df = pd.DataFrame(\n",
    "        word_matrix.toarray(), columns=cvec.get_feature_names())\n",
    "\n",
    "word_df.head()"
   ]
  },
  {
   "cell_type": "code",
   "execution_count": 56,
   "metadata": {},
   "outputs": [],
   "source": [
    "word_df['pred_target'] = y"
   ]
  },
  {
   "cell_type": "code",
   "execution_count": 57,
   "metadata": {},
   "outputs": [
    {
     "data": {
      "text/html": [
       "<div>\n",
       "<style scoped>\n",
       "    .dataframe tbody tr th:only-of-type {\n",
       "        vertical-align: middle;\n",
       "    }\n",
       "\n",
       "    .dataframe tbody tr th {\n",
       "        vertical-align: top;\n",
       "    }\n",
       "\n",
       "    .dataframe thead th {\n",
       "        text-align: right;\n",
       "    }\n",
       "</style>\n",
       "<table border=\"1\" class=\"dataframe\">\n",
       "  <thead>\n",
       "    <tr style=\"text-align: right;\">\n",
       "      <th></th>\n",
       "      <th>00</th>\n",
       "      <th>000</th>\n",
       "      <th>000ft</th>\n",
       "      <th>001</th>\n",
       "      <th>003</th>\n",
       "      <th>006</th>\n",
       "      <th>007</th>\n",
       "      <th>01</th>\n",
       "      <th>011</th>\n",
       "      <th>012</th>\n",
       "      <th>...</th>\n",
       "      <th>znmyb6q</th>\n",
       "      <th>zone</th>\n",
       "      <th>zoned</th>\n",
       "      <th>zoo</th>\n",
       "      <th>zoolander</th>\n",
       "      <th>zoom</th>\n",
       "      <th>zrebiec</th>\n",
       "      <th>zuerlein</th>\n",
       "      <th>ಠ_ಠ</th>\n",
       "      <th>pred_target</th>\n",
       "    </tr>\n",
       "  </thead>\n",
       "  <tbody>\n",
       "    <tr>\n",
       "      <td>0</td>\n",
       "      <td>0</td>\n",
       "      <td>0</td>\n",
       "      <td>0</td>\n",
       "      <td>0</td>\n",
       "      <td>0</td>\n",
       "      <td>0</td>\n",
       "      <td>0</td>\n",
       "      <td>0</td>\n",
       "      <td>0</td>\n",
       "      <td>0</td>\n",
       "      <td>...</td>\n",
       "      <td>0</td>\n",
       "      <td>0</td>\n",
       "      <td>0</td>\n",
       "      <td>0</td>\n",
       "      <td>0</td>\n",
       "      <td>0</td>\n",
       "      <td>0</td>\n",
       "      <td>0</td>\n",
       "      <td>0</td>\n",
       "      <td>1.0</td>\n",
       "    </tr>\n",
       "    <tr>\n",
       "      <td>1</td>\n",
       "      <td>0</td>\n",
       "      <td>0</td>\n",
       "      <td>0</td>\n",
       "      <td>0</td>\n",
       "      <td>0</td>\n",
       "      <td>0</td>\n",
       "      <td>0</td>\n",
       "      <td>0</td>\n",
       "      <td>0</td>\n",
       "      <td>0</td>\n",
       "      <td>...</td>\n",
       "      <td>0</td>\n",
       "      <td>0</td>\n",
       "      <td>0</td>\n",
       "      <td>0</td>\n",
       "      <td>0</td>\n",
       "      <td>0</td>\n",
       "      <td>0</td>\n",
       "      <td>0</td>\n",
       "      <td>0</td>\n",
       "      <td>1.0</td>\n",
       "    </tr>\n",
       "    <tr>\n",
       "      <td>2</td>\n",
       "      <td>0</td>\n",
       "      <td>0</td>\n",
       "      <td>0</td>\n",
       "      <td>0</td>\n",
       "      <td>0</td>\n",
       "      <td>0</td>\n",
       "      <td>0</td>\n",
       "      <td>0</td>\n",
       "      <td>0</td>\n",
       "      <td>0</td>\n",
       "      <td>...</td>\n",
       "      <td>0</td>\n",
       "      <td>0</td>\n",
       "      <td>0</td>\n",
       "      <td>0</td>\n",
       "      <td>0</td>\n",
       "      <td>0</td>\n",
       "      <td>0</td>\n",
       "      <td>0</td>\n",
       "      <td>0</td>\n",
       "      <td>1.0</td>\n",
       "    </tr>\n",
       "    <tr>\n",
       "      <td>3</td>\n",
       "      <td>0</td>\n",
       "      <td>0</td>\n",
       "      <td>0</td>\n",
       "      <td>0</td>\n",
       "      <td>0</td>\n",
       "      <td>0</td>\n",
       "      <td>0</td>\n",
       "      <td>0</td>\n",
       "      <td>0</td>\n",
       "      <td>0</td>\n",
       "      <td>...</td>\n",
       "      <td>0</td>\n",
       "      <td>0</td>\n",
       "      <td>0</td>\n",
       "      <td>0</td>\n",
       "      <td>0</td>\n",
       "      <td>0</td>\n",
       "      <td>0</td>\n",
       "      <td>0</td>\n",
       "      <td>0</td>\n",
       "      <td>1.0</td>\n",
       "    </tr>\n",
       "    <tr>\n",
       "      <td>4</td>\n",
       "      <td>0</td>\n",
       "      <td>0</td>\n",
       "      <td>0</td>\n",
       "      <td>0</td>\n",
       "      <td>0</td>\n",
       "      <td>0</td>\n",
       "      <td>0</td>\n",
       "      <td>0</td>\n",
       "      <td>0</td>\n",
       "      <td>0</td>\n",
       "      <td>...</td>\n",
       "      <td>0</td>\n",
       "      <td>0</td>\n",
       "      <td>0</td>\n",
       "      <td>0</td>\n",
       "      <td>0</td>\n",
       "      <td>0</td>\n",
       "      <td>0</td>\n",
       "      <td>0</td>\n",
       "      <td>0</td>\n",
       "      <td>1.0</td>\n",
       "    </tr>\n",
       "  </tbody>\n",
       "</table>\n",
       "<p>5 rows × 13971 columns</p>\n",
       "</div>"
      ],
      "text/plain": [
       "   00  000  000ft  001  003  006  007  01  011  012  ...  znmyb6q  zone  \\\n",
       "0   0    0      0    0    0    0    0   0    0    0  ...        0     0   \n",
       "1   0    0      0    0    0    0    0   0    0    0  ...        0     0   \n",
       "2   0    0      0    0    0    0    0   0    0    0  ...        0     0   \n",
       "3   0    0      0    0    0    0    0   0    0    0  ...        0     0   \n",
       "4   0    0      0    0    0    0    0   0    0    0  ...        0     0   \n",
       "\n",
       "   zoned  zoo  zoolander  zoom  zrebiec  zuerlein  ಠ_ಠ  pred_target  \n",
       "0      0    0          0     0        0         0    0          1.0  \n",
       "1      0    0          0     0        0         0    0          1.0  \n",
       "2      0    0          0     0        0         0    0          1.0  \n",
       "3      0    0          0     0        0         0    0          1.0  \n",
       "4      0    0          0     0        0         0    0          1.0  \n",
       "\n",
       "[5 rows x 13971 columns]"
      ]
     },
     "execution_count": 57,
     "metadata": {},
     "output_type": "execute_result"
    }
   ],
   "source": [
    "word_df.head()"
   ]
  },
  {
   "cell_type": "code",
   "execution_count": 58,
   "metadata": {},
   "outputs": [],
   "source": [
    "# Let's use dictionary comprehension to create a dictionary of summed words\n",
    "freq_dict = {word: word_df[word].sum() for word in cvec.get_feature_names()}"
   ]
  },
  {
   "cell_type": "code",
   "execution_count": 59,
   "metadata": {},
   "outputs": [],
   "source": [
    "# Create a dataframe with index = 'counts'\n",
    "freq_df = pd.DataFrame(freq_dict, index=['counts'])\n",
    "\n",
    "# Transpose the dataframe\n",
    "freq_df = freq_df.T"
   ]
  },
  {
   "cell_type": "code",
   "execution_count": 60,
   "metadata": {},
   "outputs": [
    {
     "data": {
      "text/html": [
       "<div>\n",
       "<style scoped>\n",
       "    .dataframe tbody tr th:only-of-type {\n",
       "        vertical-align: middle;\n",
       "    }\n",
       "\n",
       "    .dataframe tbody tr th {\n",
       "        vertical-align: top;\n",
       "    }\n",
       "\n",
       "    .dataframe thead th {\n",
       "        text-align: right;\n",
       "    }\n",
       "</style>\n",
       "<table border=\"1\" class=\"dataframe\">\n",
       "  <thead>\n",
       "    <tr style=\"text-align: right;\">\n",
       "      <th></th>\n",
       "      <th>counts</th>\n",
       "    </tr>\n",
       "  </thead>\n",
       "  <tbody>\n",
       "    <tr>\n",
       "      <td>game</td>\n",
       "      <td>4598</td>\n",
       "    </tr>\n",
       "    <tr>\n",
       "      <td>season</td>\n",
       "      <td>3669</td>\n",
       "    </tr>\n",
       "    <tr>\n",
       "      <td>nfl</td>\n",
       "      <td>3615</td>\n",
       "    </tr>\n",
       "    <tr>\n",
       "      <td>yards</td>\n",
       "      <td>3496</td>\n",
       "    </tr>\n",
       "    <tr>\n",
       "      <td>team</td>\n",
       "      <td>2684</td>\n",
       "    </tr>\n",
       "  </tbody>\n",
       "</table>\n",
       "</div>"
      ],
      "text/plain": [
       "        counts\n",
       "game      4598\n",
       "season    3669\n",
       "nfl       3615\n",
       "yards     3496\n",
       "team      2684"
      ]
     },
     "execution_count": 60,
     "metadata": {},
     "output_type": "execute_result"
    }
   ],
   "source": [
    "# Look at the head of the dataframe\n",
    "freq_df.sort_values(by='counts', ascending=False).head()"
   ]
  },
  {
   "cell_type": "code",
   "execution_count": 61,
   "metadata": {},
   "outputs": [
    {
     "data": {
      "text/plain": [
       "['game',\n",
       " 'season',\n",
       " 'nfl',\n",
       " 'yards',\n",
       " 'team',\n",
       " '10',\n",
       " 'games',\n",
       " 'good',\n",
       " 'just',\n",
       " 'play',\n",
       " 'wr',\n",
       " 'like',\n",
       " 'year',\n",
       " 'qb',\n",
       " '12',\n",
       " 'points',\n",
       " 'defense',\n",
       " '11',\n",
       " 'td',\n",
       " 'vs']"
      ]
     },
     "execution_count": 61,
     "metadata": {},
     "output_type": "execute_result"
    }
   ],
   "source": [
    "top_20 = list(freq_df.sort_values(by='counts', ascending=False).head(20).index)"
   ]
  },
  {
   "cell_type": "code",
   "execution_count": 165,
   "metadata": {},
   "outputs": [
    {
     "data": {
      "image/png": "[encoded data removed]",
      "text/plain": [
       "<Figure size 936x864 with 1 Axes>"
      ]
     },
     "metadata": {
      "needs_background": "light"
     },
     "output_type": "display_data"
    }
   ],
   "source": [
    "# Count Vectorizer Bar Chart\n",
    "fig, ax = plt.subplots(figsize=(13,12))\n",
    "word_df.groupby('pred_target').sum()[top_20].T.plot.barh(ax=ax)\n",
    "ax.legend([\"NFL\", \"Fantasy Football\"]);\n",
    "plt.title(\"Most Frequent Single Words (Countvectorized) by Subreddit\", fontsize = 18);"
   ]
  },
  {
   "cell_type": "markdown",
   "metadata": {},
   "source": [
    "### Bigram"
   ]
  },
  {
   "cell_type": "code",
   "execution_count": 63,
   "metadata": {},
   "outputs": [],
   "source": [
    "# Initialize the CountVectorizer\n",
    "bi_cvec = CountVectorizer(stop_words=custom_stop, max_df = 0.90, min_df=1, ngram_range=(2,2))"
   ]
  },
  {
   "cell_type": "code",
   "execution_count": 64,
   "metadata": {},
   "outputs": [],
   "source": [
    "bi_word_matrix = bi_cvec.fit_transform(df['all_text'])"
   ]
  },
  {
   "cell_type": "code",
   "execution_count": 65,
   "metadata": {},
   "outputs": [
    {
     "data": {
      "text/plain": [
       "108597"
      ]
     },
     "execution_count": 65,
     "metadata": {},
     "output_type": "execute_result"
    }
   ],
   "source": [
    "# This is the number of bigram words, exluding the limitations we initially put in\n",
    "len(bi_cvec.get_feature_names())"
   ]
  },
  {
   "cell_type": "code",
   "execution_count": 66,
   "metadata": {},
   "outputs": [
    {
     "data": {
      "text/html": [
       "<div>\n",
       "<style scoped>\n",
       "    .dataframe tbody tr th:only-of-type {\n",
       "        vertical-align: middle;\n",
       "    }\n",
       "\n",
       "    .dataframe tbody tr th {\n",
       "        vertical-align: top;\n",
       "    }\n",
       "\n",
       "    .dataframe thead th {\n",
       "        text-align: right;\n",
       "    }\n",
       "</style>\n",
       "<table border=\"1\" class=\"dataframe\">\n",
       "  <thead>\n",
       "    <tr style=\"text-align: right;\">\n",
       "      <th></th>\n",
       "      <th>00 00</th>\n",
       "      <th>00 13</th>\n",
       "      <th>00 50</th>\n",
       "      <th>00 57</th>\n",
       "      <th>00 75</th>\n",
       "      <th>00 86</th>\n",
       "      <th>00 atl</th>\n",
       "      <th>00 bonus</th>\n",
       "      <th>00 bye</th>\n",
       "      <th>00 dst</th>\n",
       "      <th>...</th>\n",
       "      <th>zuerlein 10</th>\n",
       "      <th>zuerlein 30</th>\n",
       "      <th>zuerlein josh</th>\n",
       "      <th>zuerlein kick</th>\n",
       "      <th>zuerlein kicker</th>\n",
       "      <th>zuerlein major</th>\n",
       "      <th>zuerlein obvs</th>\n",
       "      <th>zuerlein owners</th>\n",
       "      <th>zuerlein rams</th>\n",
       "      <th>zuerlein stat</th>\n",
       "    </tr>\n",
       "  </thead>\n",
       "  <tbody>\n",
       "    <tr>\n",
       "      <td>0</td>\n",
       "      <td>0</td>\n",
       "      <td>0</td>\n",
       "      <td>0</td>\n",
       "      <td>0</td>\n",
       "      <td>0</td>\n",
       "      <td>0</td>\n",
       "      <td>0</td>\n",
       "      <td>0</td>\n",
       "      <td>0</td>\n",
       "      <td>0</td>\n",
       "      <td>...</td>\n",
       "      <td>0</td>\n",
       "      <td>0</td>\n",
       "      <td>0</td>\n",
       "      <td>0</td>\n",
       "      <td>0</td>\n",
       "      <td>0</td>\n",
       "      <td>0</td>\n",
       "      <td>0</td>\n",
       "      <td>0</td>\n",
       "      <td>0</td>\n",
       "    </tr>\n",
       "    <tr>\n",
       "      <td>1</td>\n",
       "      <td>0</td>\n",
       "      <td>0</td>\n",
       "      <td>0</td>\n",
       "      <td>0</td>\n",
       "      <td>0</td>\n",
       "      <td>0</td>\n",
       "      <td>0</td>\n",
       "      <td>0</td>\n",
       "      <td>0</td>\n",
       "      <td>0</td>\n",
       "      <td>...</td>\n",
       "      <td>0</td>\n",
       "      <td>0</td>\n",
       "      <td>0</td>\n",
       "      <td>0</td>\n",
       "      <td>0</td>\n",
       "      <td>0</td>\n",
       "      <td>0</td>\n",
       "      <td>0</td>\n",
       "      <td>0</td>\n",
       "      <td>0</td>\n",
       "    </tr>\n",
       "    <tr>\n",
       "      <td>2</td>\n",
       "      <td>0</td>\n",
       "      <td>0</td>\n",
       "      <td>0</td>\n",
       "      <td>0</td>\n",
       "      <td>0</td>\n",
       "      <td>0</td>\n",
       "      <td>0</td>\n",
       "      <td>0</td>\n",
       "      <td>0</td>\n",
       "      <td>0</td>\n",
       "      <td>...</td>\n",
       "      <td>0</td>\n",
       "      <td>0</td>\n",
       "      <td>0</td>\n",
       "      <td>0</td>\n",
       "      <td>0</td>\n",
       "      <td>0</td>\n",
       "      <td>0</td>\n",
       "      <td>0</td>\n",
       "      <td>0</td>\n",
       "      <td>0</td>\n",
       "    </tr>\n",
       "    <tr>\n",
       "      <td>3</td>\n",
       "      <td>0</td>\n",
       "      <td>0</td>\n",
       "      <td>0</td>\n",
       "      <td>0</td>\n",
       "      <td>0</td>\n",
       "      <td>0</td>\n",
       "      <td>0</td>\n",
       "      <td>0</td>\n",
       "      <td>0</td>\n",
       "      <td>0</td>\n",
       "      <td>...</td>\n",
       "      <td>0</td>\n",
       "      <td>0</td>\n",
       "      <td>0</td>\n",
       "      <td>0</td>\n",
       "      <td>0</td>\n",
       "      <td>0</td>\n",
       "      <td>0</td>\n",
       "      <td>0</td>\n",
       "      <td>0</td>\n",
       "      <td>0</td>\n",
       "    </tr>\n",
       "    <tr>\n",
       "      <td>4</td>\n",
       "      <td>0</td>\n",
       "      <td>0</td>\n",
       "      <td>0</td>\n",
       "      <td>0</td>\n",
       "      <td>0</td>\n",
       "      <td>0</td>\n",
       "      <td>0</td>\n",
       "      <td>0</td>\n",
       "      <td>0</td>\n",
       "      <td>0</td>\n",
       "      <td>...</td>\n",
       "      <td>0</td>\n",
       "      <td>0</td>\n",
       "      <td>0</td>\n",
       "      <td>0</td>\n",
       "      <td>0</td>\n",
       "      <td>0</td>\n",
       "      <td>0</td>\n",
       "      <td>0</td>\n",
       "      <td>0</td>\n",
       "      <td>0</td>\n",
       "    </tr>\n",
       "  </tbody>\n",
       "</table>\n",
       "<p>5 rows × 108597 columns</p>\n",
       "</div>"
      ],
      "text/plain": [
       "   00 00  00 13  00 50  00 57  00 75  00 86  00 atl  00 bonus  00 bye  00 dst  \\\n",
       "0      0      0      0      0      0      0       0         0       0       0   \n",
       "1      0      0      0      0      0      0       0         0       0       0   \n",
       "2      0      0      0      0      0      0       0         0       0       0   \n",
       "3      0      0      0      0      0      0       0         0       0       0   \n",
       "4      0      0      0      0      0      0       0         0       0       0   \n",
       "\n",
       "   ...  zuerlein 10  zuerlein 30  zuerlein josh  zuerlein kick  \\\n",
       "0  ...            0            0              0              0   \n",
       "1  ...            0            0              0              0   \n",
       "2  ...            0            0              0              0   \n",
       "3  ...            0            0              0              0   \n",
       "4  ...            0            0              0              0   \n",
       "\n",
       "   zuerlein kicker  zuerlein major  zuerlein obvs  zuerlein owners  \\\n",
       "0                0               0              0                0   \n",
       "1                0               0              0                0   \n",
       "2                0               0              0                0   \n",
       "3                0               0              0                0   \n",
       "4                0               0              0                0   \n",
       "\n",
       "   zuerlein rams  zuerlein stat  \n",
       "0              0              0  \n",
       "1              0              0  \n",
       "2              0              0  \n",
       "3              0              0  \n",
       "4              0              0  \n",
       "\n",
       "[5 rows x 108597 columns]"
      ]
     },
     "execution_count": 66,
     "metadata": {},
     "output_type": "execute_result"
    }
   ],
   "source": [
    "bi_word_df = pd.DataFrame(\n",
    "        bi_word_matrix.toarray(), columns=bi_cvec.get_feature_names())\n",
    "\n",
    "bi_word_df.head()"
   ]
  },
  {
   "cell_type": "code",
   "execution_count": 67,
   "metadata": {},
   "outputs": [],
   "source": [
    "bi_word_df['pred_target'] = y"
   ]
  },
  {
   "cell_type": "code",
   "execution_count": 68,
   "metadata": {},
   "outputs": [],
   "source": [
    "# Let's use dictionary comprehension to create a dictionary of summed words\n",
    "bfreq_dict = {word: bi_word_df[word].sum() for word in bi_cvec.get_feature_names()}"
   ]
  },
  {
   "cell_type": "code",
   "execution_count": 69,
   "metadata": {},
   "outputs": [],
   "source": [
    "# Create a dataframe with index = 'counts'\n",
    "bfreq_df = pd.DataFrame(bfreq_dict, index=['counts'])\n",
    "\n",
    "# Transpose the dataframe\n",
    "bfreq_df = bfreq_df.T"
   ]
  },
  {
   "cell_type": "code",
   "execution_count": 70,
   "metadata": {},
   "outputs": [
    {
     "data": {
      "text/html": [
       "<div>\n",
       "<style scoped>\n",
       "    .dataframe tbody tr th:only-of-type {\n",
       "        vertical-align: middle;\n",
       "    }\n",
       "\n",
       "    .dataframe tbody tr th {\n",
       "        vertical-align: top;\n",
       "    }\n",
       "\n",
       "    .dataframe thead th {\n",
       "        text-align: right;\n",
       "    }\n",
       "</style>\n",
       "<table border=\"1\" class=\"dataframe\">\n",
       "  <thead>\n",
       "    <tr style=\"text-align: right;\">\n",
       "      <th></th>\n",
       "      <th>counts</th>\n",
       "    </tr>\n",
       "  </thead>\n",
       "  <tbody>\n",
       "    <tr>\n",
       "      <td>target share</td>\n",
       "      <td>459</td>\n",
       "    </tr>\n",
       "    <tr>\n",
       "      <td>drive plays</td>\n",
       "      <td>411</td>\n",
       "    </tr>\n",
       "    <tr>\n",
       "      <td>field goal</td>\n",
       "      <td>351</td>\n",
       "    </tr>\n",
       "    <tr>\n",
       "      <td>kick good</td>\n",
       "      <td>342</td>\n",
       "    </tr>\n",
       "    <tr>\n",
       "      <td>good drive</td>\n",
       "      <td>322</td>\n",
       "    </tr>\n",
       "  </tbody>\n",
       "</table>\n",
       "</div>"
      ],
      "text/plain": [
       "              counts\n",
       "target share     459\n",
       "drive plays      411\n",
       "field goal       351\n",
       "kick good        342\n",
       "good drive       322"
      ]
     },
     "execution_count": 70,
     "metadata": {},
     "output_type": "execute_result"
    }
   ],
   "source": [
    "# Look at the head of the dataframe\n",
    "bfreq_df.sort_values(by='counts', ascending=False).head()"
   ]
  },
  {
   "cell_type": "code",
   "execution_count": 71,
   "metadata": {},
   "outputs": [
    {
     "data": {
      "text/plain": [
       "['target share',\n",
       " 'drive plays',\n",
       " 'field goal',\n",
       " 'kick good',\n",
       " 'good drive',\n",
       " '5b 5d',\n",
       " 'injuries watch',\n",
       " 'goal drive',\n",
       " 'yd field',\n",
       " 'auto refresh',\n",
       " 'rz looks',\n",
       " '91 highlight',\n",
       " 'highlight 93',\n",
       " 'yards td',\n",
       " 'rushing yards',\n",
       " 'ppg allowed',\n",
       " 'draft_pos 5b',\n",
       " 'ppg season',\n",
       " 'baker mayfield',\n",
       " 'red zone']"
      ]
     },
     "execution_count": 71,
     "metadata": {},
     "output_type": "execute_result"
    }
   ],
   "source": [
    "bi_top_20 = list(bfreq_df.sort_values(by='counts', ascending=False).head(20).index)"
   ]
  },
  {
   "cell_type": "code",
   "execution_count": 166,
   "metadata": {},
   "outputs": [
    {
     "data": {
      "image/png": "[encoded data removed]",
      "text/plain": [
       "<Figure size 936x864 with 1 Axes>"
      ]
     },
     "metadata": {
      "needs_background": "light"
     },
     "output_type": "display_data"
    }
   ],
   "source": [
    "# Count Vectorizer Bar Chart\n",
    "fig, ax = plt.subplots(figsize=(13,12))\n",
    "bi_word_df.groupby('pred_target').sum()[bi_top_20].T.plot.barh(ax=ax)\n",
    "ax.legend([\"NFL\", \"Fantasy Football\"]);\n",
    "plt.title(\"Most Frequent Double Words (Countvectorized) by Subreddit\", fontsize = 18);"
   ]
  },
  {
   "cell_type": "markdown",
   "metadata": {},
   "source": [
    "### Trigram"
   ]
  },
  {
   "cell_type": "code",
   "execution_count": 73,
   "metadata": {},
   "outputs": [],
   "source": [
    "# Initialize the CountVectorizer\n",
    "tri_cvec = CountVectorizer(stop_words=custom_stop, max_df = 0.90, min_df=1, ngram_range=(3,3))"
   ]
  },
  {
   "cell_type": "code",
   "execution_count": 74,
   "metadata": {},
   "outputs": [],
   "source": [
    "tri_word_matrix = tri_cvec.fit_transform(df['all_text'])"
   ]
  },
  {
   "cell_type": "code",
   "execution_count": 75,
   "metadata": {},
   "outputs": [
    {
     "data": {
      "text/plain": [
       "134945"
      ]
     },
     "execution_count": 75,
     "metadata": {},
     "output_type": "execute_result"
    }
   ],
   "source": [
    "# This is the number of bigram words, exluding the limitations we initially put in\n",
    "len(tri_cvec.get_feature_names())"
   ]
  },
  {
   "cell_type": "code",
   "execution_count": 76,
   "metadata": {},
   "outputs": [
    {
     "data": {
      "text/html": [
       "<div>\n",
       "<style scoped>\n",
       "    .dataframe tbody tr th:only-of-type {\n",
       "        vertical-align: middle;\n",
       "    }\n",
       "\n",
       "    .dataframe tbody tr th {\n",
       "        vertical-align: top;\n",
       "    }\n",
       "\n",
       "    .dataframe thead th {\n",
       "        text-align: right;\n",
       "    }\n",
       "</style>\n",
       "<table border=\"1\" class=\"dataframe\">\n",
       "  <thead>\n",
       "    <tr style=\"text-align: right;\">\n",
       "      <th></th>\n",
       "      <th>00 00 throw</th>\n",
       "      <th>00 13 54</th>\n",
       "      <th>00 50 50</th>\n",
       "      <th>00 57 29</th>\n",
       "      <th>00 75 75</th>\n",
       "      <th>00 86 18</th>\n",
       "      <th>00 atl falcons</th>\n",
       "      <th>00 bonus twigs</th>\n",
       "      <th>00 bye 25</th>\n",
       "      <th>00 dst new</th>\n",
       "      <th>...</th>\n",
       "      <th>zuerlein 10 rams</th>\n",
       "      <th>zuerlein 30 yard</th>\n",
       "      <th>zuerlein josh lambo</th>\n",
       "      <th>zuerlein kick good</th>\n",
       "      <th>zuerlein kicker matter</th>\n",
       "      <th>zuerlein major outlier</th>\n",
       "      <th>zuerlein obvs hit</th>\n",
       "      <th>zuerlein owners feel</th>\n",
       "      <th>zuerlein rams falcons</th>\n",
       "      <th>zuerlein stat correction</th>\n",
       "    </tr>\n",
       "  </thead>\n",
       "  <tbody>\n",
       "    <tr>\n",
       "      <td>0</td>\n",
       "      <td>0</td>\n",
       "      <td>0</td>\n",
       "      <td>0</td>\n",
       "      <td>0</td>\n",
       "      <td>0</td>\n",
       "      <td>0</td>\n",
       "      <td>0</td>\n",
       "      <td>0</td>\n",
       "      <td>0</td>\n",
       "      <td>0</td>\n",
       "      <td>...</td>\n",
       "      <td>0</td>\n",
       "      <td>0</td>\n",
       "      <td>0</td>\n",
       "      <td>0</td>\n",
       "      <td>0</td>\n",
       "      <td>0</td>\n",
       "      <td>0</td>\n",
       "      <td>0</td>\n",
       "      <td>0</td>\n",
       "      <td>0</td>\n",
       "    </tr>\n",
       "    <tr>\n",
       "      <td>1</td>\n",
       "      <td>0</td>\n",
       "      <td>0</td>\n",
       "      <td>0</td>\n",
       "      <td>0</td>\n",
       "      <td>0</td>\n",
       "      <td>0</td>\n",
       "      <td>0</td>\n",
       "      <td>0</td>\n",
       "      <td>0</td>\n",
       "      <td>0</td>\n",
       "      <td>...</td>\n",
       "      <td>0</td>\n",
       "      <td>0</td>\n",
       "      <td>0</td>\n",
       "      <td>0</td>\n",
       "      <td>0</td>\n",
       "      <td>0</td>\n",
       "      <td>0</td>\n",
       "      <td>0</td>\n",
       "      <td>0</td>\n",
       "      <td>0</td>\n",
       "    </tr>\n",
       "    <tr>\n",
       "      <td>2</td>\n",
       "      <td>0</td>\n",
       "      <td>0</td>\n",
       "      <td>0</td>\n",
       "      <td>0</td>\n",
       "      <td>0</td>\n",
       "      <td>0</td>\n",
       "      <td>0</td>\n",
       "      <td>0</td>\n",
       "      <td>0</td>\n",
       "      <td>0</td>\n",
       "      <td>...</td>\n",
       "      <td>0</td>\n",
       "      <td>0</td>\n",
       "      <td>0</td>\n",
       "      <td>0</td>\n",
       "      <td>0</td>\n",
       "      <td>0</td>\n",
       "      <td>0</td>\n",
       "      <td>0</td>\n",
       "      <td>0</td>\n",
       "      <td>0</td>\n",
       "    </tr>\n",
       "    <tr>\n",
       "      <td>3</td>\n",
       "      <td>0</td>\n",
       "      <td>0</td>\n",
       "      <td>0</td>\n",
       "      <td>0</td>\n",
       "      <td>0</td>\n",
       "      <td>0</td>\n",
       "      <td>0</td>\n",
       "      <td>0</td>\n",
       "      <td>0</td>\n",
       "      <td>0</td>\n",
       "      <td>...</td>\n",
       "      <td>0</td>\n",
       "      <td>0</td>\n",
       "      <td>0</td>\n",
       "      <td>0</td>\n",
       "      <td>0</td>\n",
       "      <td>0</td>\n",
       "      <td>0</td>\n",
       "      <td>0</td>\n",
       "      <td>0</td>\n",
       "      <td>0</td>\n",
       "    </tr>\n",
       "    <tr>\n",
       "      <td>4</td>\n",
       "      <td>0</td>\n",
       "      <td>0</td>\n",
       "      <td>0</td>\n",
       "      <td>0</td>\n",
       "      <td>0</td>\n",
       "      <td>0</td>\n",
       "      <td>0</td>\n",
       "      <td>0</td>\n",
       "      <td>0</td>\n",
       "      <td>0</td>\n",
       "      <td>...</td>\n",
       "      <td>0</td>\n",
       "      <td>0</td>\n",
       "      <td>0</td>\n",
       "      <td>0</td>\n",
       "      <td>0</td>\n",
       "      <td>0</td>\n",
       "      <td>0</td>\n",
       "      <td>0</td>\n",
       "      <td>0</td>\n",
       "      <td>0</td>\n",
       "    </tr>\n",
       "  </tbody>\n",
       "</table>\n",
       "<p>5 rows × 134945 columns</p>\n",
       "</div>"
      ],
      "text/plain": [
       "   00 00 throw  00 13 54  00 50 50  00 57 29  00 75 75  00 86 18  \\\n",
       "0            0         0         0         0         0         0   \n",
       "1            0         0         0         0         0         0   \n",
       "2            0         0         0         0         0         0   \n",
       "3            0         0         0         0         0         0   \n",
       "4            0         0         0         0         0         0   \n",
       "\n",
       "   00 atl falcons  00 bonus twigs  00 bye 25  00 dst new  ...  \\\n",
       "0               0               0          0           0  ...   \n",
       "1               0               0          0           0  ...   \n",
       "2               0               0          0           0  ...   \n",
       "3               0               0          0           0  ...   \n",
       "4               0               0          0           0  ...   \n",
       "\n",
       "   zuerlein 10 rams  zuerlein 30 yard  zuerlein josh lambo  \\\n",
       "0                 0                 0                    0   \n",
       "1                 0                 0                    0   \n",
       "2                 0                 0                    0   \n",
       "3                 0                 0                    0   \n",
       "4                 0                 0                    0   \n",
       "\n",
       "   zuerlein kick good  zuerlein kicker matter  zuerlein major outlier  \\\n",
       "0                   0                       0                       0   \n",
       "1                   0                       0                       0   \n",
       "2                   0                       0                       0   \n",
       "3                   0                       0                       0   \n",
       "4                   0                       0                       0   \n",
       "\n",
       "   zuerlein obvs hit  zuerlein owners feel  zuerlein rams falcons  \\\n",
       "0                  0                     0                      0   \n",
       "1                  0                     0                      0   \n",
       "2                  0                     0                      0   \n",
       "3                  0                     0                      0   \n",
       "4                  0                     0                      0   \n",
       "\n",
       "   zuerlein stat correction  \n",
       "0                         0  \n",
       "1                         0  \n",
       "2                         0  \n",
       "3                         0  \n",
       "4                         0  \n",
       "\n",
       "[5 rows x 134945 columns]"
      ]
     },
     "execution_count": 76,
     "metadata": {},
     "output_type": "execute_result"
    }
   ],
   "source": [
    "tri_word_df = pd.DataFrame(\n",
    "        tri_word_matrix.toarray(), columns=tri_cvec.get_feature_names())\n",
    "\n",
    "tri_word_df.head()"
   ]
  },
  {
   "cell_type": "code",
   "execution_count": 77,
   "metadata": {},
   "outputs": [],
   "source": [
    "tri_word_df['pred_target'] = y"
   ]
  },
  {
   "cell_type": "code",
   "execution_count": 78,
   "metadata": {},
   "outputs": [],
   "source": [
    "# Let's use dictionary comprehension to create a dictionary of summed words\n",
    "tfreq_dict = {word: tri_word_df[word].sum() for word in tri_cvec.get_feature_names()}"
   ]
  },
  {
   "cell_type": "code",
   "execution_count": 79,
   "metadata": {},
   "outputs": [],
   "source": [
    "# Create a dataframe with index = 'counts'\n",
    "tfreq_df = pd.DataFrame(tfreq_dict, index=['counts'])\n",
    "\n",
    "# Transpose the dataframe\n",
    "tfreq_df = tfreq_df.T"
   ]
  },
  {
   "cell_type": "code",
   "execution_count": 80,
   "metadata": {},
   "outputs": [
    {
     "data": {
      "text/html": [
       "<div>\n",
       "<style scoped>\n",
       "    .dataframe tbody tr th:only-of-type {\n",
       "        vertical-align: middle;\n",
       "    }\n",
       "\n",
       "    .dataframe tbody tr th {\n",
       "        vertical-align: top;\n",
       "    }\n",
       "\n",
       "    .dataframe thead th {\n",
       "        text-align: right;\n",
       "    }\n",
       "</style>\n",
       "<table border=\"1\" class=\"dataframe\">\n",
       "  <thead>\n",
       "    <tr style=\"text-align: right;\">\n",
       "      <th></th>\n",
       "      <th>counts</th>\n",
       "    </tr>\n",
       "  </thead>\n",
       "  <tbody>\n",
       "    <tr>\n",
       "      <td>kick good drive</td>\n",
       "      <td>322</td>\n",
       "    </tr>\n",
       "    <tr>\n",
       "      <td>field goal drive</td>\n",
       "      <td>274</td>\n",
       "    </tr>\n",
       "    <tr>\n",
       "      <td>yd field goal</td>\n",
       "      <td>274</td>\n",
       "    </tr>\n",
       "    <tr>\n",
       "      <td>91 highlight 93</td>\n",
       "      <td>253</td>\n",
       "    </tr>\n",
       "    <tr>\n",
       "      <td>draft_pos 5b 5d</td>\n",
       "      <td>220</td>\n",
       "    </tr>\n",
       "  </tbody>\n",
       "</table>\n",
       "</div>"
      ],
      "text/plain": [
       "                  counts\n",
       "kick good drive      322\n",
       "field goal drive     274\n",
       "yd field goal        274\n",
       "91 highlight 93      253\n",
       "draft_pos 5b 5d      220"
      ]
     },
     "execution_count": 80,
     "metadata": {},
     "output_type": "execute_result"
    }
   ],
   "source": [
    "# Look at the head of the dataframe\n",
    "tfreq_df.sort_values(by='counts', ascending=False).head()"
   ]
  },
  {
   "cell_type": "code",
   "execution_count": 81,
   "metadata": {},
   "outputs": [
    {
     "data": {
      "text/plain": [
       "['kick good drive',\n",
       " 'field goal drive',\n",
       " 'yd field goal',\n",
       " '91 highlight 93',\n",
       " 'draft_pos 5b 5d',\n",
       " 'good drive plays',\n",
       " 'yds lng tds',\n",
       " 'tab auto refresh',\n",
       " 'goal drive plays',\n",
       " 'wr cb matchups',\n",
       " 'pro football reference',\n",
       " 'key wr cb',\n",
       " 'qb wr te',\n",
       " 'target share season',\n",
       " 'rb snap touches',\n",
       " 'injuries watch def',\n",
       " 'relevant target share',\n",
       " 'snap touches targets',\n",
       " 'wr te breakdown',\n",
       " 'rb target share']"
      ]
     },
     "execution_count": 81,
     "metadata": {},
     "output_type": "execute_result"
    }
   ],
   "source": [
    "tri_top_20 = list(tfreq_df.sort_values(by='counts', ascending=False).head(20).index)"
   ]
  },
  {
   "cell_type": "code",
   "execution_count": 167,
   "metadata": {},
   "outputs": [
    {
     "data": {
      "image/png": "[encoded data removed]",
      "text/plain": [
       "<Figure size 936x864 with 1 Axes>"
      ]
     },
     "metadata": {
      "needs_background": "light"
     },
     "output_type": "display_data"
    }
   ],
   "source": [
    "# Count Vectorizer Bar Chart\n",
    "fig, ax = plt.subplots(figsize=(13,12))\n",
    "tri_word_df.groupby('pred_target').sum()[tri_top_20].T.plot.barh(ax=ax)\n",
    "ax.legend([\"NFL\", \"Fantasy Football\"]);\n",
    "plt.title(\"Most Frequent Triple Words (Countvectorized) by Subreddit\", fontsize = 18);"
   ]
  },
  {
   "cell_type": "code",
   "execution_count": null,
   "metadata": {},
   "outputs": [],
   "source": []
  },
  {
   "cell_type": "markdown",
   "metadata": {},
   "source": [
    "### TFIDF Vectorizer"
   ]
  },
  {
   "cell_type": "markdown",
   "metadata": {},
   "source": [
    "### Unigram"
   ]
  },
  {
   "cell_type": "code",
   "execution_count": 83,
   "metadata": {
    "slideshow": {
     "slide_type": "slide"
    }
   },
   "outputs": [],
   "source": [
    "# Fit the transformer.\n",
    "tvec = TfidfVectorizer(stop_words=custom_stop, max_df = 0.90, min_df=1, ngram_range=(1,1))"
   ]
  },
  {
   "cell_type": "code",
   "execution_count": 84,
   "metadata": {
    "slideshow": {
     "slide_type": "-"
    }
   },
   "outputs": [
    {
     "data": {
      "text/html": [
       "<div>\n",
       "<style scoped>\n",
       "    .dataframe tbody tr th:only-of-type {\n",
       "        vertical-align: middle;\n",
       "    }\n",
       "\n",
       "    .dataframe tbody tr th {\n",
       "        vertical-align: top;\n",
       "    }\n",
       "\n",
       "    .dataframe thead th {\n",
       "        text-align: right;\n",
       "    }\n",
       "</style>\n",
       "<table border=\"1\" class=\"dataframe\">\n",
       "  <thead>\n",
       "    <tr style=\"text-align: right;\">\n",
       "      <th></th>\n",
       "      <th>00</th>\n",
       "      <th>000</th>\n",
       "      <th>000ft</th>\n",
       "      <th>001</th>\n",
       "      <th>003</th>\n",
       "      <th>006</th>\n",
       "      <th>007</th>\n",
       "      <th>01</th>\n",
       "      <th>011</th>\n",
       "      <th>012</th>\n",
       "      <th>...</th>\n",
       "      <th>zkclcdt2qoa</th>\n",
       "      <th>znmyb6q</th>\n",
       "      <th>zone</th>\n",
       "      <th>zoned</th>\n",
       "      <th>zoo</th>\n",
       "      <th>zoolander</th>\n",
       "      <th>zoom</th>\n",
       "      <th>zrebiec</th>\n",
       "      <th>zuerlein</th>\n",
       "      <th>ಠ_ಠ</th>\n",
       "    </tr>\n",
       "  </thead>\n",
       "  <tbody>\n",
       "    <tr>\n",
       "      <td>0</td>\n",
       "      <td>0.0</td>\n",
       "      <td>0.0</td>\n",
       "      <td>0.0</td>\n",
       "      <td>0.0</td>\n",
       "      <td>0.0</td>\n",
       "      <td>0.0</td>\n",
       "      <td>0.0</td>\n",
       "      <td>0.0</td>\n",
       "      <td>0.0</td>\n",
       "      <td>0.0</td>\n",
       "      <td>...</td>\n",
       "      <td>0.0</td>\n",
       "      <td>0.0</td>\n",
       "      <td>0.0</td>\n",
       "      <td>0.0</td>\n",
       "      <td>0.0</td>\n",
       "      <td>0.0</td>\n",
       "      <td>0.0</td>\n",
       "      <td>0.0</td>\n",
       "      <td>0.0</td>\n",
       "      <td>0.0</td>\n",
       "    </tr>\n",
       "    <tr>\n",
       "      <td>1</td>\n",
       "      <td>0.0</td>\n",
       "      <td>0.0</td>\n",
       "      <td>0.0</td>\n",
       "      <td>0.0</td>\n",
       "      <td>0.0</td>\n",
       "      <td>0.0</td>\n",
       "      <td>0.0</td>\n",
       "      <td>0.0</td>\n",
       "      <td>0.0</td>\n",
       "      <td>0.0</td>\n",
       "      <td>...</td>\n",
       "      <td>0.0</td>\n",
       "      <td>0.0</td>\n",
       "      <td>0.0</td>\n",
       "      <td>0.0</td>\n",
       "      <td>0.0</td>\n",
       "      <td>0.0</td>\n",
       "      <td>0.0</td>\n",
       "      <td>0.0</td>\n",
       "      <td>0.0</td>\n",
       "      <td>0.0</td>\n",
       "    </tr>\n",
       "    <tr>\n",
       "      <td>2</td>\n",
       "      <td>0.0</td>\n",
       "      <td>0.0</td>\n",
       "      <td>0.0</td>\n",
       "      <td>0.0</td>\n",
       "      <td>0.0</td>\n",
       "      <td>0.0</td>\n",
       "      <td>0.0</td>\n",
       "      <td>0.0</td>\n",
       "      <td>0.0</td>\n",
       "      <td>0.0</td>\n",
       "      <td>...</td>\n",
       "      <td>0.0</td>\n",
       "      <td>0.0</td>\n",
       "      <td>0.0</td>\n",
       "      <td>0.0</td>\n",
       "      <td>0.0</td>\n",
       "      <td>0.0</td>\n",
       "      <td>0.0</td>\n",
       "      <td>0.0</td>\n",
       "      <td>0.0</td>\n",
       "      <td>0.0</td>\n",
       "    </tr>\n",
       "    <tr>\n",
       "      <td>3</td>\n",
       "      <td>0.0</td>\n",
       "      <td>0.0</td>\n",
       "      <td>0.0</td>\n",
       "      <td>0.0</td>\n",
       "      <td>0.0</td>\n",
       "      <td>0.0</td>\n",
       "      <td>0.0</td>\n",
       "      <td>0.0</td>\n",
       "      <td>0.0</td>\n",
       "      <td>0.0</td>\n",
       "      <td>...</td>\n",
       "      <td>0.0</td>\n",
       "      <td>0.0</td>\n",
       "      <td>0.0</td>\n",
       "      <td>0.0</td>\n",
       "      <td>0.0</td>\n",
       "      <td>0.0</td>\n",
       "      <td>0.0</td>\n",
       "      <td>0.0</td>\n",
       "      <td>0.0</td>\n",
       "      <td>0.0</td>\n",
       "    </tr>\n",
       "    <tr>\n",
       "      <td>4</td>\n",
       "      <td>0.0</td>\n",
       "      <td>0.0</td>\n",
       "      <td>0.0</td>\n",
       "      <td>0.0</td>\n",
       "      <td>0.0</td>\n",
       "      <td>0.0</td>\n",
       "      <td>0.0</td>\n",
       "      <td>0.0</td>\n",
       "      <td>0.0</td>\n",
       "      <td>0.0</td>\n",
       "      <td>...</td>\n",
       "      <td>0.0</td>\n",
       "      <td>0.0</td>\n",
       "      <td>0.0</td>\n",
       "      <td>0.0</td>\n",
       "      <td>0.0</td>\n",
       "      <td>0.0</td>\n",
       "      <td>0.0</td>\n",
       "      <td>0.0</td>\n",
       "      <td>0.0</td>\n",
       "      <td>0.0</td>\n",
       "    </tr>\n",
       "  </tbody>\n",
       "</table>\n",
       "<p>5 rows × 13970 columns</p>\n",
       "</div>"
      ],
      "text/plain": [
       "    00  000  000ft  001  003  006  007   01  011  012  ...  zkclcdt2qoa  \\\n",
       "0  0.0  0.0    0.0  0.0  0.0  0.0  0.0  0.0  0.0  0.0  ...          0.0   \n",
       "1  0.0  0.0    0.0  0.0  0.0  0.0  0.0  0.0  0.0  0.0  ...          0.0   \n",
       "2  0.0  0.0    0.0  0.0  0.0  0.0  0.0  0.0  0.0  0.0  ...          0.0   \n",
       "3  0.0  0.0    0.0  0.0  0.0  0.0  0.0  0.0  0.0  0.0  ...          0.0   \n",
       "4  0.0  0.0    0.0  0.0  0.0  0.0  0.0  0.0  0.0  0.0  ...          0.0   \n",
       "\n",
       "   znmyb6q  zone  zoned  zoo  zoolander  zoom  zrebiec  zuerlein  ಠ_ಠ  \n",
       "0      0.0   0.0    0.0  0.0        0.0   0.0      0.0       0.0  0.0  \n",
       "1      0.0   0.0    0.0  0.0        0.0   0.0      0.0       0.0  0.0  \n",
       "2      0.0   0.0    0.0  0.0        0.0   0.0      0.0       0.0  0.0  \n",
       "3      0.0   0.0    0.0  0.0        0.0   0.0      0.0       0.0  0.0  \n",
       "4      0.0   0.0    0.0  0.0        0.0   0.0      0.0       0.0  0.0  \n",
       "\n",
       "[5 rows x 13970 columns]"
      ]
     },
     "execution_count": 84,
     "metadata": {},
     "output_type": "execute_result"
    }
   ],
   "source": [
    "tfidf_df = pd.DataFrame(tvec.fit_transform(df['all_text']).toarray(),\n",
    "                  columns=tvec.get_feature_names())\n",
    "tfidf_df.head()"
   ]
  },
  {
   "cell_type": "code",
   "execution_count": 85,
   "metadata": {},
   "outputs": [],
   "source": [
    "tfidf_df['pred_target'] = y"
   ]
  },
  {
   "cell_type": "code",
   "execution_count": 86,
   "metadata": {},
   "outputs": [],
   "source": [
    "# Let's use dictionary comprehension to create a dictionary of summed words\n",
    "freq_dict2 = {word: tfidf_df[word].sum() for word in tvec.get_feature_names()}"
   ]
  },
  {
   "cell_type": "code",
   "execution_count": 87,
   "metadata": {},
   "outputs": [],
   "source": [
    "# Create a dataframe with index = 'counts'\n",
    "freq_df2 = pd.DataFrame(freq_dict2, index=['counts'])\n",
    "\n",
    "# Transpose the dataframe\n",
    "freq_df2 = freq_df2.T"
   ]
  },
  {
   "cell_type": "code",
   "execution_count": 88,
   "metadata": {},
   "outputs": [
    {
     "data": {
      "text/html": [
       "<div>\n",
       "<style scoped>\n",
       "    .dataframe tbody tr th:only-of-type {\n",
       "        vertical-align: middle;\n",
       "    }\n",
       "\n",
       "    .dataframe tbody tr th {\n",
       "        vertical-align: top;\n",
       "    }\n",
       "\n",
       "    .dataframe thead th {\n",
       "        text-align: right;\n",
       "    }\n",
       "</style>\n",
       "<table border=\"1\" class=\"dataframe\">\n",
       "  <thead>\n",
       "    <tr style=\"text-align: right;\">\n",
       "      <th></th>\n",
       "      <th>00</th>\n",
       "      <th>000</th>\n",
       "      <th>000ft</th>\n",
       "      <th>001</th>\n",
       "      <th>003</th>\n",
       "      <th>006</th>\n",
       "      <th>007</th>\n",
       "      <th>01</th>\n",
       "      <th>011</th>\n",
       "      <th>012</th>\n",
       "      <th>...</th>\n",
       "      <th>znmyb6q</th>\n",
       "      <th>zone</th>\n",
       "      <th>zoned</th>\n",
       "      <th>zoo</th>\n",
       "      <th>zoolander</th>\n",
       "      <th>zoom</th>\n",
       "      <th>zrebiec</th>\n",
       "      <th>zuerlein</th>\n",
       "      <th>ಠ_ಠ</th>\n",
       "      <th>pred_target</th>\n",
       "    </tr>\n",
       "  </thead>\n",
       "  <tbody>\n",
       "    <tr>\n",
       "      <td>0</td>\n",
       "      <td>0.0</td>\n",
       "      <td>0.0</td>\n",
       "      <td>0.0</td>\n",
       "      <td>0.0</td>\n",
       "      <td>0.0</td>\n",
       "      <td>0.0</td>\n",
       "      <td>0.0</td>\n",
       "      <td>0.0</td>\n",
       "      <td>0.0</td>\n",
       "      <td>0.0</td>\n",
       "      <td>...</td>\n",
       "      <td>0.0</td>\n",
       "      <td>0.0</td>\n",
       "      <td>0.0</td>\n",
       "      <td>0.0</td>\n",
       "      <td>0.0</td>\n",
       "      <td>0.0</td>\n",
       "      <td>0.0</td>\n",
       "      <td>0.0</td>\n",
       "      <td>0.0</td>\n",
       "      <td>1.0</td>\n",
       "    </tr>\n",
       "    <tr>\n",
       "      <td>1</td>\n",
       "      <td>0.0</td>\n",
       "      <td>0.0</td>\n",
       "      <td>0.0</td>\n",
       "      <td>0.0</td>\n",
       "      <td>0.0</td>\n",
       "      <td>0.0</td>\n",
       "      <td>0.0</td>\n",
       "      <td>0.0</td>\n",
       "      <td>0.0</td>\n",
       "      <td>0.0</td>\n",
       "      <td>...</td>\n",
       "      <td>0.0</td>\n",
       "      <td>0.0</td>\n",
       "      <td>0.0</td>\n",
       "      <td>0.0</td>\n",
       "      <td>0.0</td>\n",
       "      <td>0.0</td>\n",
       "      <td>0.0</td>\n",
       "      <td>0.0</td>\n",
       "      <td>0.0</td>\n",
       "      <td>1.0</td>\n",
       "    </tr>\n",
       "    <tr>\n",
       "      <td>2</td>\n",
       "      <td>0.0</td>\n",
       "      <td>0.0</td>\n",
       "      <td>0.0</td>\n",
       "      <td>0.0</td>\n",
       "      <td>0.0</td>\n",
       "      <td>0.0</td>\n",
       "      <td>0.0</td>\n",
       "      <td>0.0</td>\n",
       "      <td>0.0</td>\n",
       "      <td>0.0</td>\n",
       "      <td>...</td>\n",
       "      <td>0.0</td>\n",
       "      <td>0.0</td>\n",
       "      <td>0.0</td>\n",
       "      <td>0.0</td>\n",
       "      <td>0.0</td>\n",
       "      <td>0.0</td>\n",
       "      <td>0.0</td>\n",
       "      <td>0.0</td>\n",
       "      <td>0.0</td>\n",
       "      <td>1.0</td>\n",
       "    </tr>\n",
       "    <tr>\n",
       "      <td>3</td>\n",
       "      <td>0.0</td>\n",
       "      <td>0.0</td>\n",
       "      <td>0.0</td>\n",
       "      <td>0.0</td>\n",
       "      <td>0.0</td>\n",
       "      <td>0.0</td>\n",
       "      <td>0.0</td>\n",
       "      <td>0.0</td>\n",
       "      <td>0.0</td>\n",
       "      <td>0.0</td>\n",
       "      <td>...</td>\n",
       "      <td>0.0</td>\n",
       "      <td>0.0</td>\n",
       "      <td>0.0</td>\n",
       "      <td>0.0</td>\n",
       "      <td>0.0</td>\n",
       "      <td>0.0</td>\n",
       "      <td>0.0</td>\n",
       "      <td>0.0</td>\n",
       "      <td>0.0</td>\n",
       "      <td>1.0</td>\n",
       "    </tr>\n",
       "    <tr>\n",
       "      <td>4</td>\n",
       "      <td>0.0</td>\n",
       "      <td>0.0</td>\n",
       "      <td>0.0</td>\n",
       "      <td>0.0</td>\n",
       "      <td>0.0</td>\n",
       "      <td>0.0</td>\n",
       "      <td>0.0</td>\n",
       "      <td>0.0</td>\n",
       "      <td>0.0</td>\n",
       "      <td>0.0</td>\n",
       "      <td>...</td>\n",
       "      <td>0.0</td>\n",
       "      <td>0.0</td>\n",
       "      <td>0.0</td>\n",
       "      <td>0.0</td>\n",
       "      <td>0.0</td>\n",
       "      <td>0.0</td>\n",
       "      <td>0.0</td>\n",
       "      <td>0.0</td>\n",
       "      <td>0.0</td>\n",
       "      <td>1.0</td>\n",
       "    </tr>\n",
       "    <tr>\n",
       "      <td>...</td>\n",
       "      <td>...</td>\n",
       "      <td>...</td>\n",
       "      <td>...</td>\n",
       "      <td>...</td>\n",
       "      <td>...</td>\n",
       "      <td>...</td>\n",
       "      <td>...</td>\n",
       "      <td>...</td>\n",
       "      <td>...</td>\n",
       "      <td>...</td>\n",
       "      <td>...</td>\n",
       "      <td>...</td>\n",
       "      <td>...</td>\n",
       "      <td>...</td>\n",
       "      <td>...</td>\n",
       "      <td>...</td>\n",
       "      <td>...</td>\n",
       "      <td>...</td>\n",
       "      <td>...</td>\n",
       "      <td>...</td>\n",
       "      <td>...</td>\n",
       "    </tr>\n",
       "    <tr>\n",
       "      <td>10814</td>\n",
       "      <td>0.0</td>\n",
       "      <td>0.0</td>\n",
       "      <td>0.0</td>\n",
       "      <td>0.0</td>\n",
       "      <td>0.0</td>\n",
       "      <td>0.0</td>\n",
       "      <td>0.0</td>\n",
       "      <td>0.0</td>\n",
       "      <td>0.0</td>\n",
       "      <td>0.0</td>\n",
       "      <td>...</td>\n",
       "      <td>0.0</td>\n",
       "      <td>0.0</td>\n",
       "      <td>0.0</td>\n",
       "      <td>0.0</td>\n",
       "      <td>0.0</td>\n",
       "      <td>0.0</td>\n",
       "      <td>0.0</td>\n",
       "      <td>0.0</td>\n",
       "      <td>0.0</td>\n",
       "      <td>0.0</td>\n",
       "    </tr>\n",
       "    <tr>\n",
       "      <td>10815</td>\n",
       "      <td>0.0</td>\n",
       "      <td>0.0</td>\n",
       "      <td>0.0</td>\n",
       "      <td>0.0</td>\n",
       "      <td>0.0</td>\n",
       "      <td>0.0</td>\n",
       "      <td>0.0</td>\n",
       "      <td>0.0</td>\n",
       "      <td>0.0</td>\n",
       "      <td>0.0</td>\n",
       "      <td>...</td>\n",
       "      <td>0.0</td>\n",
       "      <td>0.0</td>\n",
       "      <td>0.0</td>\n",
       "      <td>0.0</td>\n",
       "      <td>0.0</td>\n",
       "      <td>0.0</td>\n",
       "      <td>0.0</td>\n",
       "      <td>0.0</td>\n",
       "      <td>0.0</td>\n",
       "      <td>0.0</td>\n",
       "    </tr>\n",
       "    <tr>\n",
       "      <td>10816</td>\n",
       "      <td>0.0</td>\n",
       "      <td>0.0</td>\n",
       "      <td>0.0</td>\n",
       "      <td>0.0</td>\n",
       "      <td>0.0</td>\n",
       "      <td>0.0</td>\n",
       "      <td>0.0</td>\n",
       "      <td>0.0</td>\n",
       "      <td>0.0</td>\n",
       "      <td>0.0</td>\n",
       "      <td>...</td>\n",
       "      <td>0.0</td>\n",
       "      <td>0.0</td>\n",
       "      <td>0.0</td>\n",
       "      <td>0.0</td>\n",
       "      <td>0.0</td>\n",
       "      <td>0.0</td>\n",
       "      <td>0.0</td>\n",
       "      <td>0.0</td>\n",
       "      <td>0.0</td>\n",
       "      <td>0.0</td>\n",
       "    </tr>\n",
       "    <tr>\n",
       "      <td>10817</td>\n",
       "      <td>0.0</td>\n",
       "      <td>0.0</td>\n",
       "      <td>0.0</td>\n",
       "      <td>0.0</td>\n",
       "      <td>0.0</td>\n",
       "      <td>0.0</td>\n",
       "      <td>0.0</td>\n",
       "      <td>0.0</td>\n",
       "      <td>0.0</td>\n",
       "      <td>0.0</td>\n",
       "      <td>...</td>\n",
       "      <td>0.0</td>\n",
       "      <td>0.0</td>\n",
       "      <td>0.0</td>\n",
       "      <td>0.0</td>\n",
       "      <td>0.0</td>\n",
       "      <td>0.0</td>\n",
       "      <td>0.0</td>\n",
       "      <td>0.0</td>\n",
       "      <td>0.0</td>\n",
       "      <td>0.0</td>\n",
       "    </tr>\n",
       "    <tr>\n",
       "      <td>10818</td>\n",
       "      <td>0.0</td>\n",
       "      <td>0.0</td>\n",
       "      <td>0.0</td>\n",
       "      <td>0.0</td>\n",
       "      <td>0.0</td>\n",
       "      <td>0.0</td>\n",
       "      <td>0.0</td>\n",
       "      <td>0.0</td>\n",
       "      <td>0.0</td>\n",
       "      <td>0.0</td>\n",
       "      <td>...</td>\n",
       "      <td>0.0</td>\n",
       "      <td>0.0</td>\n",
       "      <td>0.0</td>\n",
       "      <td>0.0</td>\n",
       "      <td>0.0</td>\n",
       "      <td>0.0</td>\n",
       "      <td>0.0</td>\n",
       "      <td>0.0</td>\n",
       "      <td>0.0</td>\n",
       "      <td>0.0</td>\n",
       "    </tr>\n",
       "  </tbody>\n",
       "</table>\n",
       "<p>10819 rows × 13971 columns</p>\n",
       "</div>"
      ],
      "text/plain": [
       "        00  000  000ft  001  003  006  007   01  011  012  ...  znmyb6q  zone  \\\n",
       "0      0.0  0.0    0.0  0.0  0.0  0.0  0.0  0.0  0.0  0.0  ...      0.0   0.0   \n",
       "1      0.0  0.0    0.0  0.0  0.0  0.0  0.0  0.0  0.0  0.0  ...      0.0   0.0   \n",
       "2      0.0  0.0    0.0  0.0  0.0  0.0  0.0  0.0  0.0  0.0  ...      0.0   0.0   \n",
       "3      0.0  0.0    0.0  0.0  0.0  0.0  0.0  0.0  0.0  0.0  ...      0.0   0.0   \n",
       "4      0.0  0.0    0.0  0.0  0.0  0.0  0.0  0.0  0.0  0.0  ...      0.0   0.0   \n",
       "...    ...  ...    ...  ...  ...  ...  ...  ...  ...  ...  ...      ...   ...   \n",
       "10814  0.0  0.0    0.0  0.0  0.0  0.0  0.0  0.0  0.0  0.0  ...      0.0   0.0   \n",
       "10815  0.0  0.0    0.0  0.0  0.0  0.0  0.0  0.0  0.0  0.0  ...      0.0   0.0   \n",
       "10816  0.0  0.0    0.0  0.0  0.0  0.0  0.0  0.0  0.0  0.0  ...      0.0   0.0   \n",
       "10817  0.0  0.0    0.0  0.0  0.0  0.0  0.0  0.0  0.0  0.0  ...      0.0   0.0   \n",
       "10818  0.0  0.0    0.0  0.0  0.0  0.0  0.0  0.0  0.0  0.0  ...      0.0   0.0   \n",
       "\n",
       "       zoned  zoo  zoolander  zoom  zrebiec  zuerlein  ಠ_ಠ  pred_target  \n",
       "0        0.0  0.0        0.0   0.0      0.0       0.0  0.0          1.0  \n",
       "1        0.0  0.0        0.0   0.0      0.0       0.0  0.0          1.0  \n",
       "2        0.0  0.0        0.0   0.0      0.0       0.0  0.0          1.0  \n",
       "3        0.0  0.0        0.0   0.0      0.0       0.0  0.0          1.0  \n",
       "4        0.0  0.0        0.0   0.0      0.0       0.0  0.0          1.0  \n",
       "...      ...  ...        ...   ...      ...       ...  ...          ...  \n",
       "10814    0.0  0.0        0.0   0.0      0.0       0.0  0.0          0.0  \n",
       "10815    0.0  0.0        0.0   0.0      0.0       0.0  0.0          0.0  \n",
       "10816    0.0  0.0        0.0   0.0      0.0       0.0  0.0          0.0  \n",
       "10817    0.0  0.0        0.0   0.0      0.0       0.0  0.0          0.0  \n",
       "10818    0.0  0.0        0.0   0.0      0.0       0.0  0.0          0.0  \n",
       "\n",
       "[10819 rows x 13971 columns]"
      ]
     },
     "execution_count": 88,
     "metadata": {},
     "output_type": "execute_result"
    }
   ],
   "source": [
    "tfidf_df"
   ]
  },
  {
   "cell_type": "code",
   "execution_count": 89,
   "metadata": {},
   "outputs": [
    {
     "data": {
      "text/plain": [
       "['game',\n",
       " 'nfl',\n",
       " 'yards',\n",
       " 'season',\n",
       " 'team',\n",
       " 'games',\n",
       " 'play',\n",
       " 'just',\n",
       " 'like',\n",
       " 'good',\n",
       " 'today',\n",
       " 'qb',\n",
       " 'highlight',\n",
       " 'wr',\n",
       " 'injury',\n",
       " 'year',\n",
       " 'practice',\n",
       " 'time',\n",
       " 'teams',\n",
       " 'vs']"
      ]
     },
     "execution_count": 89,
     "metadata": {},
     "output_type": "execute_result"
    }
   ],
   "source": [
    "# Look at the head of the dataframe\n",
    "tf_top_20 = list(freq_df2.sort_values(by='counts', ascending=False).head(20).index)"
   ]
  },
  {
   "cell_type": "code",
   "execution_count": 168,
   "metadata": {},
   "outputs": [
    {
     "data": {
      "image/png": "[encoded data removed]",
      "text/plain": [
       "<Figure size 936x864 with 1 Axes>"
      ]
     },
     "metadata": {
      "needs_background": "light"
     },
     "output_type": "display_data"
    }
   ],
   "source": [
    "# TFIDF Vectorizer Bar Chart\n",
    "fig, ax = plt.subplots(figsize=(13,12))\n",
    "tfidf_df.groupby('pred_target').mean()[tf_top_20].T.plot.barh(ax=ax)\n",
    "ax.legend([\"NFL\", \"Fantasy Football\"]);\n",
    "plt.title(\"Most Frequent Single Words (TFIDF vectorized) by Subreddit\", fontsize = 18);"
   ]
  },
  {
   "cell_type": "markdown",
   "metadata": {},
   "source": [
    "### Bigram"
   ]
  },
  {
   "cell_type": "code",
   "execution_count": 91,
   "metadata": {
    "slideshow": {
     "slide_type": "slide"
    }
   },
   "outputs": [],
   "source": [
    "# Fit the transformer.\n",
    "bi_tvec = TfidfVectorizer(stop_words=custom_stop, max_df = 0.90, min_df=1, ngram_range=(2,2))"
   ]
  },
  {
   "cell_type": "code",
   "execution_count": 92,
   "metadata": {
    "slideshow": {
     "slide_type": "-"
    }
   },
   "outputs": [
    {
     "data": {
      "text/html": [
       "<div>\n",
       "<style scoped>\n",
       "    .dataframe tbody tr th:only-of-type {\n",
       "        vertical-align: middle;\n",
       "    }\n",
       "\n",
       "    .dataframe tbody tr th {\n",
       "        vertical-align: top;\n",
       "    }\n",
       "\n",
       "    .dataframe thead th {\n",
       "        text-align: right;\n",
       "    }\n",
       "</style>\n",
       "<table border=\"1\" class=\"dataframe\">\n",
       "  <thead>\n",
       "    <tr style=\"text-align: right;\">\n",
       "      <th></th>\n",
       "      <th>00 00</th>\n",
       "      <th>00 13</th>\n",
       "      <th>00 50</th>\n",
       "      <th>00 57</th>\n",
       "      <th>00 75</th>\n",
       "      <th>00 86</th>\n",
       "      <th>00 atl</th>\n",
       "      <th>00 bonus</th>\n",
       "      <th>00 bye</th>\n",
       "      <th>00 dst</th>\n",
       "      <th>...</th>\n",
       "      <th>zuerlein 10</th>\n",
       "      <th>zuerlein 30</th>\n",
       "      <th>zuerlein josh</th>\n",
       "      <th>zuerlein kick</th>\n",
       "      <th>zuerlein kicker</th>\n",
       "      <th>zuerlein major</th>\n",
       "      <th>zuerlein obvs</th>\n",
       "      <th>zuerlein owners</th>\n",
       "      <th>zuerlein rams</th>\n",
       "      <th>zuerlein stat</th>\n",
       "    </tr>\n",
       "  </thead>\n",
       "  <tbody>\n",
       "    <tr>\n",
       "      <td>0</td>\n",
       "      <td>0.0</td>\n",
       "      <td>0.0</td>\n",
       "      <td>0.0</td>\n",
       "      <td>0.0</td>\n",
       "      <td>0.0</td>\n",
       "      <td>0.0</td>\n",
       "      <td>0.0</td>\n",
       "      <td>0.0</td>\n",
       "      <td>0.0</td>\n",
       "      <td>0.0</td>\n",
       "      <td>...</td>\n",
       "      <td>0.0</td>\n",
       "      <td>0.0</td>\n",
       "      <td>0.0</td>\n",
       "      <td>0.0</td>\n",
       "      <td>0.0</td>\n",
       "      <td>0.0</td>\n",
       "      <td>0.0</td>\n",
       "      <td>0.0</td>\n",
       "      <td>0.0</td>\n",
       "      <td>0.0</td>\n",
       "    </tr>\n",
       "    <tr>\n",
       "      <td>1</td>\n",
       "      <td>0.0</td>\n",
       "      <td>0.0</td>\n",
       "      <td>0.0</td>\n",
       "      <td>0.0</td>\n",
       "      <td>0.0</td>\n",
       "      <td>0.0</td>\n",
       "      <td>0.0</td>\n",
       "      <td>0.0</td>\n",
       "      <td>0.0</td>\n",
       "      <td>0.0</td>\n",
       "      <td>...</td>\n",
       "      <td>0.0</td>\n",
       "      <td>0.0</td>\n",
       "      <td>0.0</td>\n",
       "      <td>0.0</td>\n",
       "      <td>0.0</td>\n",
       "      <td>0.0</td>\n",
       "      <td>0.0</td>\n",
       "      <td>0.0</td>\n",
       "      <td>0.0</td>\n",
       "      <td>0.0</td>\n",
       "    </tr>\n",
       "    <tr>\n",
       "      <td>2</td>\n",
       "      <td>0.0</td>\n",
       "      <td>0.0</td>\n",
       "      <td>0.0</td>\n",
       "      <td>0.0</td>\n",
       "      <td>0.0</td>\n",
       "      <td>0.0</td>\n",
       "      <td>0.0</td>\n",
       "      <td>0.0</td>\n",
       "      <td>0.0</td>\n",
       "      <td>0.0</td>\n",
       "      <td>...</td>\n",
       "      <td>0.0</td>\n",
       "      <td>0.0</td>\n",
       "      <td>0.0</td>\n",
       "      <td>0.0</td>\n",
       "      <td>0.0</td>\n",
       "      <td>0.0</td>\n",
       "      <td>0.0</td>\n",
       "      <td>0.0</td>\n",
       "      <td>0.0</td>\n",
       "      <td>0.0</td>\n",
       "    </tr>\n",
       "    <tr>\n",
       "      <td>3</td>\n",
       "      <td>0.0</td>\n",
       "      <td>0.0</td>\n",
       "      <td>0.0</td>\n",
       "      <td>0.0</td>\n",
       "      <td>0.0</td>\n",
       "      <td>0.0</td>\n",
       "      <td>0.0</td>\n",
       "      <td>0.0</td>\n",
       "      <td>0.0</td>\n",
       "      <td>0.0</td>\n",
       "      <td>...</td>\n",
       "      <td>0.0</td>\n",
       "      <td>0.0</td>\n",
       "      <td>0.0</td>\n",
       "      <td>0.0</td>\n",
       "      <td>0.0</td>\n",
       "      <td>0.0</td>\n",
       "      <td>0.0</td>\n",
       "      <td>0.0</td>\n",
       "      <td>0.0</td>\n",
       "      <td>0.0</td>\n",
       "    </tr>\n",
       "    <tr>\n",
       "      <td>4</td>\n",
       "      <td>0.0</td>\n",
       "      <td>0.0</td>\n",
       "      <td>0.0</td>\n",
       "      <td>0.0</td>\n",
       "      <td>0.0</td>\n",
       "      <td>0.0</td>\n",
       "      <td>0.0</td>\n",
       "      <td>0.0</td>\n",
       "      <td>0.0</td>\n",
       "      <td>0.0</td>\n",
       "      <td>...</td>\n",
       "      <td>0.0</td>\n",
       "      <td>0.0</td>\n",
       "      <td>0.0</td>\n",
       "      <td>0.0</td>\n",
       "      <td>0.0</td>\n",
       "      <td>0.0</td>\n",
       "      <td>0.0</td>\n",
       "      <td>0.0</td>\n",
       "      <td>0.0</td>\n",
       "      <td>0.0</td>\n",
       "    </tr>\n",
       "  </tbody>\n",
       "</table>\n",
       "<p>5 rows × 108597 columns</p>\n",
       "</div>"
      ],
      "text/plain": [
       "   00 00  00 13  00 50  00 57  00 75  00 86  00 atl  00 bonus  00 bye  00 dst  \\\n",
       "0    0.0    0.0    0.0    0.0    0.0    0.0     0.0       0.0     0.0     0.0   \n",
       "1    0.0    0.0    0.0    0.0    0.0    0.0     0.0       0.0     0.0     0.0   \n",
       "2    0.0    0.0    0.0    0.0    0.0    0.0     0.0       0.0     0.0     0.0   \n",
       "3    0.0    0.0    0.0    0.0    0.0    0.0     0.0       0.0     0.0     0.0   \n",
       "4    0.0    0.0    0.0    0.0    0.0    0.0     0.0       0.0     0.0     0.0   \n",
       "\n",
       "   ...  zuerlein 10  zuerlein 30  zuerlein josh  zuerlein kick  \\\n",
       "0  ...          0.0          0.0            0.0            0.0   \n",
       "1  ...          0.0          0.0            0.0            0.0   \n",
       "2  ...          0.0          0.0            0.0            0.0   \n",
       "3  ...          0.0          0.0            0.0            0.0   \n",
       "4  ...          0.0          0.0            0.0            0.0   \n",
       "\n",
       "   zuerlein kicker  zuerlein major  zuerlein obvs  zuerlein owners  \\\n",
       "0              0.0             0.0            0.0              0.0   \n",
       "1              0.0             0.0            0.0              0.0   \n",
       "2              0.0             0.0            0.0              0.0   \n",
       "3              0.0             0.0            0.0              0.0   \n",
       "4              0.0             0.0            0.0              0.0   \n",
       "\n",
       "   zuerlein rams  zuerlein stat  \n",
       "0            0.0            0.0  \n",
       "1            0.0            0.0  \n",
       "2            0.0            0.0  \n",
       "3            0.0            0.0  \n",
       "4            0.0            0.0  \n",
       "\n",
       "[5 rows x 108597 columns]"
      ]
     },
     "execution_count": 92,
     "metadata": {},
     "output_type": "execute_result"
    }
   ],
   "source": [
    "btfidf_df = pd.DataFrame(bi_tvec.fit_transform(df['all_text']).toarray(),\n",
    "                  columns=bi_tvec.get_feature_names())\n",
    "btfidf_df.head()"
   ]
  },
  {
   "cell_type": "code",
   "execution_count": 93,
   "metadata": {},
   "outputs": [],
   "source": [
    "btfidf_df['pred_target'] = y"
   ]
  },
  {
   "cell_type": "code",
   "execution_count": 94,
   "metadata": {},
   "outputs": [],
   "source": [
    "# Let's use dictionary comprehension to create a dictionary of summed words\n",
    "bfreq_dict2 = {word: btfidf_df[word].sum() for word in bi_tvec.get_feature_names()}"
   ]
  },
  {
   "cell_type": "code",
   "execution_count": 95,
   "metadata": {},
   "outputs": [],
   "source": [
    "# Create a dataframe with index = 'counts'\n",
    "bfreq_df2 = pd.DataFrame(bfreq_dict2, index=['counts'])\n",
    "\n",
    "# Transpose the dataframe\n",
    "bfreq_df2 = bfreq_df2.T"
   ]
  },
  {
   "cell_type": "code",
   "execution_count": 96,
   "metadata": {},
   "outputs": [
    {
     "data": {
      "text/plain": [
       "['baker mayfield',\n",
       " 'waiver wire',\n",
       " 'davante adams',\n",
       " 'sam darnold',\n",
       " 'david johnson',\n",
       " 'tyreek hill',\n",
       " 'amari cooper',\n",
       " 'practice today',\n",
       " 'jalen ramsey',\n",
       " 'todd gurley',\n",
       " 'monday night',\n",
       " 'josh gordon',\n",
       " 'passer rating',\n",
       " 'patrick mahomes',\n",
       " 'kyler murray',\n",
       " 'christian mccaffrey',\n",
       " 'injury report',\n",
       " 'deshaun watson',\n",
       " 'field goal',\n",
       " 'russell wilson']"
      ]
     },
     "execution_count": 96,
     "metadata": {},
     "output_type": "execute_result"
    }
   ],
   "source": [
    "# Look at the head of the dataframe\n",
    "btf_top_20 = list(bfreq_df2.sort_values(by='counts', ascending=False).head(20).index)"
   ]
  },
  {
   "cell_type": "code",
   "execution_count": 169,
   "metadata": {},
   "outputs": [
    {
     "data": {
      "image/png": "[encoded data removed]",
      "text/plain": [
       "<Figure size 936x864 with 1 Axes>"
      ]
     },
     "metadata": {
      "needs_background": "light"
     },
     "output_type": "display_data"
    }
   ],
   "source": [
    "# TFIDF Vectorizer Bar Chart\n",
    "fig, ax = plt.subplots(figsize=(13,12))\n",
    "btfidf_df.groupby('pred_target').mean()[btf_top_20].T.plot.barh(ax=ax)\n",
    "ax.legend([\"NFL\", \"Fantasy Football\"]);\n",
    "plt.title(\"Most Frequent Double Words (TFIDF vectorized) by Subreddit\", fontsize = 18);"
   ]
  },
  {
   "cell_type": "markdown",
   "metadata": {},
   "source": [
    "### Trigram"
   ]
  },
  {
   "cell_type": "code",
   "execution_count": 98,
   "metadata": {
    "slideshow": {
     "slide_type": "slide"
    }
   },
   "outputs": [],
   "source": [
    "# Fit the transformer.\n",
    "tri_tvec = TfidfVectorizer(stop_words=custom_stop, max_df = 0.90, min_df=1, ngram_range=(3,3))"
   ]
  },
  {
   "cell_type": "code",
   "execution_count": 99,
   "metadata": {
    "slideshow": {
     "slide_type": "-"
    }
   },
   "outputs": [
    {
     "data": {
      "text/html": [
       "<div>\n",
       "<style scoped>\n",
       "    .dataframe tbody tr th:only-of-type {\n",
       "        vertical-align: middle;\n",
       "    }\n",
       "\n",
       "    .dataframe tbody tr th {\n",
       "        vertical-align: top;\n",
       "    }\n",
       "\n",
       "    .dataframe thead th {\n",
       "        text-align: right;\n",
       "    }\n",
       "</style>\n",
       "<table border=\"1\" class=\"dataframe\">\n",
       "  <thead>\n",
       "    <tr style=\"text-align: right;\">\n",
       "      <th></th>\n",
       "      <th>00 00 throw</th>\n",
       "      <th>00 13 54</th>\n",
       "      <th>00 50 50</th>\n",
       "      <th>00 57 29</th>\n",
       "      <th>00 75 75</th>\n",
       "      <th>00 86 18</th>\n",
       "      <th>00 atl falcons</th>\n",
       "      <th>00 bonus twigs</th>\n",
       "      <th>00 bye 25</th>\n",
       "      <th>00 dst new</th>\n",
       "      <th>...</th>\n",
       "      <th>zuerlein 10 rams</th>\n",
       "      <th>zuerlein 30 yard</th>\n",
       "      <th>zuerlein josh lambo</th>\n",
       "      <th>zuerlein kick good</th>\n",
       "      <th>zuerlein kicker matter</th>\n",
       "      <th>zuerlein major outlier</th>\n",
       "      <th>zuerlein obvs hit</th>\n",
       "      <th>zuerlein owners feel</th>\n",
       "      <th>zuerlein rams falcons</th>\n",
       "      <th>zuerlein stat correction</th>\n",
       "    </tr>\n",
       "  </thead>\n",
       "  <tbody>\n",
       "    <tr>\n",
       "      <td>0</td>\n",
       "      <td>0.0</td>\n",
       "      <td>0.0</td>\n",
       "      <td>0.0</td>\n",
       "      <td>0.0</td>\n",
       "      <td>0.0</td>\n",
       "      <td>0.0</td>\n",
       "      <td>0.0</td>\n",
       "      <td>0.0</td>\n",
       "      <td>0.0</td>\n",
       "      <td>0.0</td>\n",
       "      <td>...</td>\n",
       "      <td>0.0</td>\n",
       "      <td>0.0</td>\n",
       "      <td>0.0</td>\n",
       "      <td>0.0</td>\n",
       "      <td>0.0</td>\n",
       "      <td>0.0</td>\n",
       "      <td>0.0</td>\n",
       "      <td>0.0</td>\n",
       "      <td>0.0</td>\n",
       "      <td>0.0</td>\n",
       "    </tr>\n",
       "    <tr>\n",
       "      <td>1</td>\n",
       "      <td>0.0</td>\n",
       "      <td>0.0</td>\n",
       "      <td>0.0</td>\n",
       "      <td>0.0</td>\n",
       "      <td>0.0</td>\n",
       "      <td>0.0</td>\n",
       "      <td>0.0</td>\n",
       "      <td>0.0</td>\n",
       "      <td>0.0</td>\n",
       "      <td>0.0</td>\n",
       "      <td>...</td>\n",
       "      <td>0.0</td>\n",
       "      <td>0.0</td>\n",
       "      <td>0.0</td>\n",
       "      <td>0.0</td>\n",
       "      <td>0.0</td>\n",
       "      <td>0.0</td>\n",
       "      <td>0.0</td>\n",
       "      <td>0.0</td>\n",
       "      <td>0.0</td>\n",
       "      <td>0.0</td>\n",
       "    </tr>\n",
       "    <tr>\n",
       "      <td>2</td>\n",
       "      <td>0.0</td>\n",
       "      <td>0.0</td>\n",
       "      <td>0.0</td>\n",
       "      <td>0.0</td>\n",
       "      <td>0.0</td>\n",
       "      <td>0.0</td>\n",
       "      <td>0.0</td>\n",
       "      <td>0.0</td>\n",
       "      <td>0.0</td>\n",
       "      <td>0.0</td>\n",
       "      <td>...</td>\n",
       "      <td>0.0</td>\n",
       "      <td>0.0</td>\n",
       "      <td>0.0</td>\n",
       "      <td>0.0</td>\n",
       "      <td>0.0</td>\n",
       "      <td>0.0</td>\n",
       "      <td>0.0</td>\n",
       "      <td>0.0</td>\n",
       "      <td>0.0</td>\n",
       "      <td>0.0</td>\n",
       "    </tr>\n",
       "    <tr>\n",
       "      <td>3</td>\n",
       "      <td>0.0</td>\n",
       "      <td>0.0</td>\n",
       "      <td>0.0</td>\n",
       "      <td>0.0</td>\n",
       "      <td>0.0</td>\n",
       "      <td>0.0</td>\n",
       "      <td>0.0</td>\n",
       "      <td>0.0</td>\n",
       "      <td>0.0</td>\n",
       "      <td>0.0</td>\n",
       "      <td>...</td>\n",
       "      <td>0.0</td>\n",
       "      <td>0.0</td>\n",
       "      <td>0.0</td>\n",
       "      <td>0.0</td>\n",
       "      <td>0.0</td>\n",
       "      <td>0.0</td>\n",
       "      <td>0.0</td>\n",
       "      <td>0.0</td>\n",
       "      <td>0.0</td>\n",
       "      <td>0.0</td>\n",
       "    </tr>\n",
       "    <tr>\n",
       "      <td>4</td>\n",
       "      <td>0.0</td>\n",
       "      <td>0.0</td>\n",
       "      <td>0.0</td>\n",
       "      <td>0.0</td>\n",
       "      <td>0.0</td>\n",
       "      <td>0.0</td>\n",
       "      <td>0.0</td>\n",
       "      <td>0.0</td>\n",
       "      <td>0.0</td>\n",
       "      <td>0.0</td>\n",
       "      <td>...</td>\n",
       "      <td>0.0</td>\n",
       "      <td>0.0</td>\n",
       "      <td>0.0</td>\n",
       "      <td>0.0</td>\n",
       "      <td>0.0</td>\n",
       "      <td>0.0</td>\n",
       "      <td>0.0</td>\n",
       "      <td>0.0</td>\n",
       "      <td>0.0</td>\n",
       "      <td>0.0</td>\n",
       "    </tr>\n",
       "  </tbody>\n",
       "</table>\n",
       "<p>5 rows × 134945 columns</p>\n",
       "</div>"
      ],
      "text/plain": [
       "   00 00 throw  00 13 54  00 50 50  00 57 29  00 75 75  00 86 18  \\\n",
       "0          0.0       0.0       0.0       0.0       0.0       0.0   \n",
       "1          0.0       0.0       0.0       0.0       0.0       0.0   \n",
       "2          0.0       0.0       0.0       0.0       0.0       0.0   \n",
       "3          0.0       0.0       0.0       0.0       0.0       0.0   \n",
       "4          0.0       0.0       0.0       0.0       0.0       0.0   \n",
       "\n",
       "   00 atl falcons  00 bonus twigs  00 bye 25  00 dst new  ...  \\\n",
       "0             0.0             0.0        0.0         0.0  ...   \n",
       "1             0.0             0.0        0.0         0.0  ...   \n",
       "2             0.0             0.0        0.0         0.0  ...   \n",
       "3             0.0             0.0        0.0         0.0  ...   \n",
       "4             0.0             0.0        0.0         0.0  ...   \n",
       "\n",
       "   zuerlein 10 rams  zuerlein 30 yard  zuerlein josh lambo  \\\n",
       "0               0.0               0.0                  0.0   \n",
       "1               0.0               0.0                  0.0   \n",
       "2               0.0               0.0                  0.0   \n",
       "3               0.0               0.0                  0.0   \n",
       "4               0.0               0.0                  0.0   \n",
       "\n",
       "   zuerlein kick good  zuerlein kicker matter  zuerlein major outlier  \\\n",
       "0                 0.0                     0.0                     0.0   \n",
       "1                 0.0                     0.0                     0.0   \n",
       "2                 0.0                     0.0                     0.0   \n",
       "3                 0.0                     0.0                     0.0   \n",
       "4                 0.0                     0.0                     0.0   \n",
       "\n",
       "   zuerlein obvs hit  zuerlein owners feel  zuerlein rams falcons  \\\n",
       "0                0.0                   0.0                    0.0   \n",
       "1                0.0                   0.0                    0.0   \n",
       "2                0.0                   0.0                    0.0   \n",
       "3                0.0                   0.0                    0.0   \n",
       "4                0.0                   0.0                    0.0   \n",
       "\n",
       "   zuerlein stat correction  \n",
       "0                       0.0  \n",
       "1                       0.0  \n",
       "2                       0.0  \n",
       "3                       0.0  \n",
       "4                       0.0  \n",
       "\n",
       "[5 rows x 134945 columns]"
      ]
     },
     "execution_count": 99,
     "metadata": {},
     "output_type": "execute_result"
    }
   ],
   "source": [
    "ttfidf_df = pd.DataFrame(tri_tvec.fit_transform(df['all_text']).toarray(),\n",
    "                  columns=tri_tvec.get_feature_names())\n",
    "ttfidf_df.head()"
   ]
  },
  {
   "cell_type": "code",
   "execution_count": 100,
   "metadata": {},
   "outputs": [],
   "source": [
    "ttfidf_df['pred_target'] = y"
   ]
  },
  {
   "cell_type": "code",
   "execution_count": 101,
   "metadata": {},
   "outputs": [],
   "source": [
    "# Let's use dictionary comprehension to create a dictionary of summed words\n",
    "tfreq_dict2 = {word: ttfidf_df[word].sum() for word in tri_tvec.get_feature_names()}"
   ]
  },
  {
   "cell_type": "code",
   "execution_count": 102,
   "metadata": {},
   "outputs": [],
   "source": [
    "# Create a dataframe with index = 'counts'\n",
    "tfreq_df2 = pd.DataFrame(tfreq_dict2, index=['counts'])\n",
    "\n",
    "# Transpose the dataframe\n",
    "tfreq_df2 = tfreq_df2.T"
   ]
  },
  {
   "cell_type": "code",
   "execution_count": 103,
   "metadata": {},
   "outputs": [
    {
     "data": {
      "text/plain": [
       "['kick good drive',\n",
       " 'field goal drive',\n",
       " 'yd field goal',\n",
       " 'pro football reference',\n",
       " 'good drive plays',\n",
       " 'wr davante adams',\n",
       " 'wr cb matchups',\n",
       " 'draft_pos 5b 5d',\n",
       " 'monday night football',\n",
       " 'football waiver wire',\n",
       " 'waiver wire adds',\n",
       " 'green bay packers',\n",
       " 'los angeles rams',\n",
       " 'new england patriots',\n",
       " 'yds lng tds',\n",
       " 'tab auto refresh',\n",
       " 'packers wr davante',\n",
       " 'mindful rules guidelines',\n",
       " 'just want regards',\n",
       " 'players teams just']"
      ]
     },
     "execution_count": 103,
     "metadata": {},
     "output_type": "execute_result"
    }
   ],
   "source": [
    "# Look at the head of the dataframe\n",
    "ttf_top_20 = list(tfreq_df2.sort_values(by='counts', ascending=False).head(20).index)"
   ]
  },
  {
   "cell_type": "code",
   "execution_count": 170,
   "metadata": {},
   "outputs": [
    {
     "data": {
      "image/png": "[encoded data removed]",
      "text/plain": [
       "<Figure size 936x864 with 1 Axes>"
      ]
     },
     "metadata": {
      "needs_background": "light"
     },
     "output_type": "display_data"
    }
   ],
   "source": [
    "# TFIDF Vectorizer Bar Chart\n",
    "fig, ax = plt.subplots(figsize=(13,12))\n",
    "ttfidf_df.groupby('pred_target').mean()[ttf_top_20].T.plot.barh(ax=ax)\n",
    "ax.legend([\"NFL\", \"Fantasy Football\"]);\n",
    "plt.title(\"Most Frequent Triple Words (TFIDF vectorized) by Subreddit\", fontsize = 18);"
   ]
  },
  {
   "cell_type": "markdown",
   "metadata": {},
   "source": [
    "## Sentiment Filtering"
   ]
  },
  {
   "cell_type": "code",
   "execution_count": 107,
   "metadata": {},
   "outputs": [],
   "source": [
    "neg_sent_mask = df['sentiment'] < .5\n",
    "pos_sent_mask = df['sentiment'] > -.5"
   ]
  },
  {
   "cell_type": "code",
   "execution_count": 108,
   "metadata": {},
   "outputs": [],
   "source": [
    "neg_df = df[neg_sent_mask]\n",
    "pos_df = df[pos_sent_mask]"
   ]
  },
  {
   "cell_type": "markdown",
   "metadata": {},
   "source": [
    "### Neg Bigram"
   ]
  },
  {
   "cell_type": "code",
   "execution_count": 109,
   "metadata": {
    "slideshow": {
     "slide_type": "slide"
    }
   },
   "outputs": [],
   "source": [
    "# Fit the transformer.\n",
    "nbi_tvec = TfidfVectorizer(stop_words=custom_stop, max_df = 0.30, min_df=1, ngram_range=(2,2))"
   ]
  },
  {
   "cell_type": "code",
   "execution_count": 110,
   "metadata": {
    "slideshow": {
     "slide_type": "-"
    }
   },
   "outputs": [
    {
     "data": {
      "text/html": [
       "<div>\n",
       "<style scoped>\n",
       "    .dataframe tbody tr th:only-of-type {\n",
       "        vertical-align: middle;\n",
       "    }\n",
       "\n",
       "    .dataframe tbody tr th {\n",
       "        vertical-align: top;\n",
       "    }\n",
       "\n",
       "    .dataframe thead th {\n",
       "        text-align: right;\n",
       "    }\n",
       "</style>\n",
       "<table border=\"1\" class=\"dataframe\">\n",
       "  <thead>\n",
       "    <tr style=\"text-align: right;\">\n",
       "      <th></th>\n",
       "      <th>00 espn</th>\n",
       "      <th>00 mcnabb</th>\n",
       "      <th>00 pm</th>\n",
       "      <th>00 redskins</th>\n",
       "      <th>00 ve</th>\n",
       "      <th>000 bought</th>\n",
       "      <th>000 calling</th>\n",
       "      <th>000 mustaches</th>\n",
       "      <th>000 nfl</th>\n",
       "      <th>000 pointsper</th>\n",
       "      <th>...</th>\n",
       "      <th>zone woof</th>\n",
       "      <th>zoo admission</th>\n",
       "      <th>zrebiec earl</th>\n",
       "      <th>zrebiec harbaugh</th>\n",
       "      <th>zuerlein 10</th>\n",
       "      <th>zuerlein 30</th>\n",
       "      <th>zuerlein kicker</th>\n",
       "      <th>zuerlein obvs</th>\n",
       "      <th>zuerlein owners</th>\n",
       "      <th>zuerlein stat</th>\n",
       "    </tr>\n",
       "  </thead>\n",
       "  <tbody>\n",
       "    <tr>\n",
       "      <td>0</td>\n",
       "      <td>0.0</td>\n",
       "      <td>0.0</td>\n",
       "      <td>0.0</td>\n",
       "      <td>0.0</td>\n",
       "      <td>0.0</td>\n",
       "      <td>0.0</td>\n",
       "      <td>0.0</td>\n",
       "      <td>0.0</td>\n",
       "      <td>0.0</td>\n",
       "      <td>0.0</td>\n",
       "      <td>...</td>\n",
       "      <td>0.0</td>\n",
       "      <td>0.0</td>\n",
       "      <td>0.0</td>\n",
       "      <td>0.0</td>\n",
       "      <td>0.0</td>\n",
       "      <td>0.0</td>\n",
       "      <td>0.0</td>\n",
       "      <td>0.0</td>\n",
       "      <td>0.0</td>\n",
       "      <td>0.0</td>\n",
       "    </tr>\n",
       "    <tr>\n",
       "      <td>1</td>\n",
       "      <td>0.0</td>\n",
       "      <td>0.0</td>\n",
       "      <td>0.0</td>\n",
       "      <td>0.0</td>\n",
       "      <td>0.0</td>\n",
       "      <td>0.0</td>\n",
       "      <td>0.0</td>\n",
       "      <td>0.0</td>\n",
       "      <td>0.0</td>\n",
       "      <td>0.0</td>\n",
       "      <td>...</td>\n",
       "      <td>0.0</td>\n",
       "      <td>0.0</td>\n",
       "      <td>0.0</td>\n",
       "      <td>0.0</td>\n",
       "      <td>0.0</td>\n",
       "      <td>0.0</td>\n",
       "      <td>0.0</td>\n",
       "      <td>0.0</td>\n",
       "      <td>0.0</td>\n",
       "      <td>0.0</td>\n",
       "    </tr>\n",
       "    <tr>\n",
       "      <td>2</td>\n",
       "      <td>0.0</td>\n",
       "      <td>0.0</td>\n",
       "      <td>0.0</td>\n",
       "      <td>0.0</td>\n",
       "      <td>0.0</td>\n",
       "      <td>0.0</td>\n",
       "      <td>0.0</td>\n",
       "      <td>0.0</td>\n",
       "      <td>0.0</td>\n",
       "      <td>0.0</td>\n",
       "      <td>...</td>\n",
       "      <td>0.0</td>\n",
       "      <td>0.0</td>\n",
       "      <td>0.0</td>\n",
       "      <td>0.0</td>\n",
       "      <td>0.0</td>\n",
       "      <td>0.0</td>\n",
       "      <td>0.0</td>\n",
       "      <td>0.0</td>\n",
       "      <td>0.0</td>\n",
       "      <td>0.0</td>\n",
       "    </tr>\n",
       "    <tr>\n",
       "      <td>3</td>\n",
       "      <td>0.0</td>\n",
       "      <td>0.0</td>\n",
       "      <td>0.0</td>\n",
       "      <td>0.0</td>\n",
       "      <td>0.0</td>\n",
       "      <td>0.0</td>\n",
       "      <td>0.0</td>\n",
       "      <td>0.0</td>\n",
       "      <td>0.0</td>\n",
       "      <td>0.0</td>\n",
       "      <td>...</td>\n",
       "      <td>0.0</td>\n",
       "      <td>0.0</td>\n",
       "      <td>0.0</td>\n",
       "      <td>0.0</td>\n",
       "      <td>0.0</td>\n",
       "      <td>0.0</td>\n",
       "      <td>0.0</td>\n",
       "      <td>0.0</td>\n",
       "      <td>0.0</td>\n",
       "      <td>0.0</td>\n",
       "    </tr>\n",
       "    <tr>\n",
       "      <td>4</td>\n",
       "      <td>0.0</td>\n",
       "      <td>0.0</td>\n",
       "      <td>0.0</td>\n",
       "      <td>0.0</td>\n",
       "      <td>0.0</td>\n",
       "      <td>0.0</td>\n",
       "      <td>0.0</td>\n",
       "      <td>0.0</td>\n",
       "      <td>0.0</td>\n",
       "      <td>0.0</td>\n",
       "      <td>...</td>\n",
       "      <td>0.0</td>\n",
       "      <td>0.0</td>\n",
       "      <td>0.0</td>\n",
       "      <td>0.0</td>\n",
       "      <td>0.0</td>\n",
       "      <td>0.0</td>\n",
       "      <td>0.0</td>\n",
       "      <td>0.0</td>\n",
       "      <td>0.0</td>\n",
       "      <td>0.0</td>\n",
       "    </tr>\n",
       "  </tbody>\n",
       "</table>\n",
       "<p>5 rows × 48369 columns</p>\n",
       "</div>"
      ],
      "text/plain": [
       "   00 espn  00 mcnabb  00 pm  00 redskins  00 ve  000 bought  000 calling  \\\n",
       "0      0.0        0.0    0.0          0.0    0.0         0.0          0.0   \n",
       "1      0.0        0.0    0.0          0.0    0.0         0.0          0.0   \n",
       "2      0.0        0.0    0.0          0.0    0.0         0.0          0.0   \n",
       "3      0.0        0.0    0.0          0.0    0.0         0.0          0.0   \n",
       "4      0.0        0.0    0.0          0.0    0.0         0.0          0.0   \n",
       "\n",
       "   000 mustaches  000 nfl  000 pointsper  ...  zone woof  zoo admission  \\\n",
       "0            0.0      0.0            0.0  ...        0.0            0.0   \n",
       "1            0.0      0.0            0.0  ...        0.0            0.0   \n",
       "2            0.0      0.0            0.0  ...        0.0            0.0   \n",
       "3            0.0      0.0            0.0  ...        0.0            0.0   \n",
       "4            0.0      0.0            0.0  ...        0.0            0.0   \n",
       "\n",
       "   zrebiec earl  zrebiec harbaugh  zuerlein 10  zuerlein 30  zuerlein kicker  \\\n",
       "0           0.0               0.0          0.0          0.0              0.0   \n",
       "1           0.0               0.0          0.0          0.0              0.0   \n",
       "2           0.0               0.0          0.0          0.0              0.0   \n",
       "3           0.0               0.0          0.0          0.0              0.0   \n",
       "4           0.0               0.0          0.0          0.0              0.0   \n",
       "\n",
       "   zuerlein obvs  zuerlein owners  zuerlein stat  \n",
       "0            0.0              0.0            0.0  \n",
       "1            0.0              0.0            0.0  \n",
       "2            0.0              0.0            0.0  \n",
       "3            0.0              0.0            0.0  \n",
       "4            0.0              0.0            0.0  \n",
       "\n",
       "[5 rows x 48369 columns]"
      ]
     },
     "execution_count": 110,
     "metadata": {},
     "output_type": "execute_result"
    }
   ],
   "source": [
    "nbtfidf_df = pd.DataFrame(nbi_tvec.fit_transform(neg_df['all_text']).toarray(),\n",
    "                  columns=nbi_tvec.get_feature_names())\n",
    "nbtfidf_df.head()"
   ]
  },
  {
   "cell_type": "code",
   "execution_count": 111,
   "metadata": {},
   "outputs": [],
   "source": [
    "nbtfidf_df['pred_target'] = y"
   ]
  },
  {
   "cell_type": "code",
   "execution_count": 112,
   "metadata": {},
   "outputs": [],
   "source": [
    "# Let's use dictionary comprehension to create a dictionary of summed words\n",
    "nbfreq_dict2 = {word: nbtfidf_df[word].sum() for word in nbi_tvec.get_feature_names()}"
   ]
  },
  {
   "cell_type": "code",
   "execution_count": 113,
   "metadata": {},
   "outputs": [],
   "source": [
    "# Create a dataframe with index = 'counts'\n",
    "nbfreq_df2 = pd.DataFrame(nbfreq_dict2, index=['counts'])\n",
    "\n",
    "# Transpose the dataframe\n",
    "nbfreq_df2 = nbfreq_df2.T"
   ]
  },
  {
   "cell_type": "code",
   "execution_count": 114,
   "metadata": {},
   "outputs": [
    {
     "data": {
      "text/plain": [
       "['baker mayfield',\n",
       " 'davante adams',\n",
       " 'amari cooper',\n",
       " 'waiver wire',\n",
       " 'sam darnold',\n",
       " 'practice today',\n",
       " 'jalen ramsey',\n",
       " 'josh gordon',\n",
       " 'tyreek hill',\n",
       " 'todd gurley',\n",
       " 'monday night',\n",
       " 'injury report',\n",
       " 'david johnson',\n",
       " 'patrick mahomes',\n",
       " 'christian mccaffrey',\n",
       " 'alvin kamara',\n",
       " 'kyler murray',\n",
       " 'deshaun watson',\n",
       " 'russell wilson',\n",
       " 'locker room']"
      ]
     },
     "execution_count": 114,
     "metadata": {},
     "output_type": "execute_result"
    }
   ],
   "source": [
    "# Look at the head of the dataframe\n",
    "nbtf_top_20 = list(nbfreq_df2.sort_values(by='counts', ascending=False).head(20).index)"
   ]
  },
  {
   "cell_type": "code",
   "execution_count": 171,
   "metadata": {},
   "outputs": [
    {
     "data": {
      "image/png": "[encoded data removed]",
      "text/plain": [
       "<Figure size 936x864 with 1 Axes>"
      ]
     },
     "metadata": {
      "needs_background": "light"
     },
     "output_type": "display_data"
    }
   ],
   "source": [
    "# TFIDF Vectorizer Bar Chart\n",
    "fig, ax = plt.subplots(figsize=(13,12))\n",
    "nbtfidf_df.groupby('pred_target').mean()[nbtf_top_20].T.plot.barh(ax=ax)\n",
    "ax.legend([\"NFL\", \"Fantasy Football\"]);\n",
    "plt.title(\"Most Frequent Negative Double Words (TFIDF vectorized) by Subreddit\", fontsize = 18);"
   ]
  },
  {
   "cell_type": "markdown",
   "metadata": {},
   "source": [
    "### Pos Bigram"
   ]
  },
  {
   "cell_type": "code",
   "execution_count": 116,
   "metadata": {
    "slideshow": {
     "slide_type": "slide"
    }
   },
   "outputs": [],
   "source": [
    "# Fit the transformer.\n",
    "pbi_tvec = TfidfVectorizer(stop_words=custom_stop, max_df = 0.30, min_df=1, ngram_range=(2,2))"
   ]
  },
  {
   "cell_type": "code",
   "execution_count": 117,
   "metadata": {
    "slideshow": {
     "slide_type": "-"
    }
   },
   "outputs": [
    {
     "data": {
      "text/html": [
       "<div>\n",
       "<style scoped>\n",
       "    .dataframe tbody tr th:only-of-type {\n",
       "        vertical-align: middle;\n",
       "    }\n",
       "\n",
       "    .dataframe tbody tr th {\n",
       "        vertical-align: top;\n",
       "    }\n",
       "\n",
       "    .dataframe thead th {\n",
       "        text-align: right;\n",
       "    }\n",
       "</style>\n",
       "<table border=\"1\" class=\"dataframe\">\n",
       "  <thead>\n",
       "    <tr style=\"text-align: right;\">\n",
       "      <th></th>\n",
       "      <th>00 00</th>\n",
       "      <th>00 13</th>\n",
       "      <th>00 50</th>\n",
       "      <th>00 57</th>\n",
       "      <th>00 75</th>\n",
       "      <th>00 86</th>\n",
       "      <th>00 atl</th>\n",
       "      <th>00 bonus</th>\n",
       "      <th>00 bye</th>\n",
       "      <th>00 dst</th>\n",
       "      <th>...</th>\n",
       "      <th>zuerlein 10</th>\n",
       "      <th>zuerlein 30</th>\n",
       "      <th>zuerlein josh</th>\n",
       "      <th>zuerlein kick</th>\n",
       "      <th>zuerlein kicker</th>\n",
       "      <th>zuerlein major</th>\n",
       "      <th>zuerlein obvs</th>\n",
       "      <th>zuerlein owners</th>\n",
       "      <th>zuerlein rams</th>\n",
       "      <th>zuerlein stat</th>\n",
       "    </tr>\n",
       "  </thead>\n",
       "  <tbody>\n",
       "    <tr>\n",
       "      <td>0</td>\n",
       "      <td>0.0</td>\n",
       "      <td>0.0</td>\n",
       "      <td>0.0</td>\n",
       "      <td>0.0</td>\n",
       "      <td>0.0</td>\n",
       "      <td>0.0</td>\n",
       "      <td>0.0</td>\n",
       "      <td>0.0</td>\n",
       "      <td>0.0</td>\n",
       "      <td>0.0</td>\n",
       "      <td>...</td>\n",
       "      <td>0.0</td>\n",
       "      <td>0.0</td>\n",
       "      <td>0.0</td>\n",
       "      <td>0.0</td>\n",
       "      <td>0.0</td>\n",
       "      <td>0.0</td>\n",
       "      <td>0.0</td>\n",
       "      <td>0.0</td>\n",
       "      <td>0.0</td>\n",
       "      <td>0.0</td>\n",
       "    </tr>\n",
       "    <tr>\n",
       "      <td>1</td>\n",
       "      <td>0.0</td>\n",
       "      <td>0.0</td>\n",
       "      <td>0.0</td>\n",
       "      <td>0.0</td>\n",
       "      <td>0.0</td>\n",
       "      <td>0.0</td>\n",
       "      <td>0.0</td>\n",
       "      <td>0.0</td>\n",
       "      <td>0.0</td>\n",
       "      <td>0.0</td>\n",
       "      <td>...</td>\n",
       "      <td>0.0</td>\n",
       "      <td>0.0</td>\n",
       "      <td>0.0</td>\n",
       "      <td>0.0</td>\n",
       "      <td>0.0</td>\n",
       "      <td>0.0</td>\n",
       "      <td>0.0</td>\n",
       "      <td>0.0</td>\n",
       "      <td>0.0</td>\n",
       "      <td>0.0</td>\n",
       "    </tr>\n",
       "    <tr>\n",
       "      <td>2</td>\n",
       "      <td>0.0</td>\n",
       "      <td>0.0</td>\n",
       "      <td>0.0</td>\n",
       "      <td>0.0</td>\n",
       "      <td>0.0</td>\n",
       "      <td>0.0</td>\n",
       "      <td>0.0</td>\n",
       "      <td>0.0</td>\n",
       "      <td>0.0</td>\n",
       "      <td>0.0</td>\n",
       "      <td>...</td>\n",
       "      <td>0.0</td>\n",
       "      <td>0.0</td>\n",
       "      <td>0.0</td>\n",
       "      <td>0.0</td>\n",
       "      <td>0.0</td>\n",
       "      <td>0.0</td>\n",
       "      <td>0.0</td>\n",
       "      <td>0.0</td>\n",
       "      <td>0.0</td>\n",
       "      <td>0.0</td>\n",
       "    </tr>\n",
       "    <tr>\n",
       "      <td>3</td>\n",
       "      <td>0.0</td>\n",
       "      <td>0.0</td>\n",
       "      <td>0.0</td>\n",
       "      <td>0.0</td>\n",
       "      <td>0.0</td>\n",
       "      <td>0.0</td>\n",
       "      <td>0.0</td>\n",
       "      <td>0.0</td>\n",
       "      <td>0.0</td>\n",
       "      <td>0.0</td>\n",
       "      <td>...</td>\n",
       "      <td>0.0</td>\n",
       "      <td>0.0</td>\n",
       "      <td>0.0</td>\n",
       "      <td>0.0</td>\n",
       "      <td>0.0</td>\n",
       "      <td>0.0</td>\n",
       "      <td>0.0</td>\n",
       "      <td>0.0</td>\n",
       "      <td>0.0</td>\n",
       "      <td>0.0</td>\n",
       "    </tr>\n",
       "    <tr>\n",
       "      <td>4</td>\n",
       "      <td>0.0</td>\n",
       "      <td>0.0</td>\n",
       "      <td>0.0</td>\n",
       "      <td>0.0</td>\n",
       "      <td>0.0</td>\n",
       "      <td>0.0</td>\n",
       "      <td>0.0</td>\n",
       "      <td>0.0</td>\n",
       "      <td>0.0</td>\n",
       "      <td>0.0</td>\n",
       "      <td>...</td>\n",
       "      <td>0.0</td>\n",
       "      <td>0.0</td>\n",
       "      <td>0.0</td>\n",
       "      <td>0.0</td>\n",
       "      <td>0.0</td>\n",
       "      <td>0.0</td>\n",
       "      <td>0.0</td>\n",
       "      <td>0.0</td>\n",
       "      <td>0.0</td>\n",
       "      <td>0.0</td>\n",
       "    </tr>\n",
       "  </tbody>\n",
       "</table>\n",
       "<p>5 rows × 96291 columns</p>\n",
       "</div>"
      ],
      "text/plain": [
       "   00 00  00 13  00 50  00 57  00 75  00 86  00 atl  00 bonus  00 bye  00 dst  \\\n",
       "0    0.0    0.0    0.0    0.0    0.0    0.0     0.0       0.0     0.0     0.0   \n",
       "1    0.0    0.0    0.0    0.0    0.0    0.0     0.0       0.0     0.0     0.0   \n",
       "2    0.0    0.0    0.0    0.0    0.0    0.0     0.0       0.0     0.0     0.0   \n",
       "3    0.0    0.0    0.0    0.0    0.0    0.0     0.0       0.0     0.0     0.0   \n",
       "4    0.0    0.0    0.0    0.0    0.0    0.0     0.0       0.0     0.0     0.0   \n",
       "\n",
       "   ...  zuerlein 10  zuerlein 30  zuerlein josh  zuerlein kick  \\\n",
       "0  ...          0.0          0.0            0.0            0.0   \n",
       "1  ...          0.0          0.0            0.0            0.0   \n",
       "2  ...          0.0          0.0            0.0            0.0   \n",
       "3  ...          0.0          0.0            0.0            0.0   \n",
       "4  ...          0.0          0.0            0.0            0.0   \n",
       "\n",
       "   zuerlein kicker  zuerlein major  zuerlein obvs  zuerlein owners  \\\n",
       "0              0.0             0.0            0.0              0.0   \n",
       "1              0.0             0.0            0.0              0.0   \n",
       "2              0.0             0.0            0.0              0.0   \n",
       "3              0.0             0.0            0.0              0.0   \n",
       "4              0.0             0.0            0.0              0.0   \n",
       "\n",
       "   zuerlein rams  zuerlein stat  \n",
       "0            0.0            0.0  \n",
       "1            0.0            0.0  \n",
       "2            0.0            0.0  \n",
       "3            0.0            0.0  \n",
       "4            0.0            0.0  \n",
       "\n",
       "[5 rows x 96291 columns]"
      ]
     },
     "execution_count": 117,
     "metadata": {},
     "output_type": "execute_result"
    }
   ],
   "source": [
    "pbtfidf_df = pd.DataFrame(pbi_tvec.fit_transform(pos_df['all_text']).toarray(),\n",
    "                  columns=pbi_tvec.get_feature_names())\n",
    "pbtfidf_df.head()"
   ]
  },
  {
   "cell_type": "code",
   "execution_count": 118,
   "metadata": {},
   "outputs": [],
   "source": [
    "pbtfidf_df['pred_target'] = y"
   ]
  },
  {
   "cell_type": "code",
   "execution_count": 119,
   "metadata": {},
   "outputs": [],
   "source": [
    "# Let's use dictionary comprehension to create a dictionary of summed words\n",
    "pbfreq_dict2 = {word: pbtfidf_df[word].sum() for word in pbi_tvec.get_feature_names()}"
   ]
  },
  {
   "cell_type": "code",
   "execution_count": 120,
   "metadata": {},
   "outputs": [],
   "source": [
    "# Create a dataframe with index = 'counts'\n",
    "pbfreq_df2 = pd.DataFrame(pbfreq_dict2, index=['counts'])\n",
    "\n",
    "# Transpose the dataframe\n",
    "pbfreq_df2 = pbfreq_df2.T"
   ]
  },
  {
   "cell_type": "code",
   "execution_count": 121,
   "metadata": {},
   "outputs": [
    {
     "data": {
      "text/plain": [
       "['baker mayfield',\n",
       " 'waiver wire',\n",
       " 'sam darnold',\n",
       " 'david johnson',\n",
       " 'davante adams',\n",
       " 'jalen ramsey',\n",
       " 'todd gurley',\n",
       " 'practice today',\n",
       " 'tyreek hill',\n",
       " 'patrick mahomes',\n",
       " 'amari cooper',\n",
       " 'passer rating',\n",
       " 'monday night',\n",
       " 'deshaun watson',\n",
       " 'kyler murray',\n",
       " 'christian mccaffrey',\n",
       " 'russell wilson',\n",
       " 'field goal',\n",
       " 'josh gordon',\n",
       " 'aaron rodgers']"
      ]
     },
     "execution_count": 121,
     "metadata": {},
     "output_type": "execute_result"
    }
   ],
   "source": [
    "# Look at the head of the dataframe\n",
    "pbtf_top_20 = list(pbfreq_df2.sort_values(by='counts', ascending=False).head(20).index)"
   ]
  },
  {
   "cell_type": "code",
   "execution_count": 172,
   "metadata": {},
   "outputs": [
    {
     "data": {
      "image/png": "[encoded data removed]",
      "text/plain": [
       "<Figure size 936x864 with 1 Axes>"
      ]
     },
     "metadata": {
      "needs_background": "light"
     },
     "output_type": "display_data"
    }
   ],
   "source": [
    "# TFIDF Vectorizer Bar Chart\n",
    "fig, ax = plt.subplots(figsize=(13,12))\n",
    "pbtfidf_df.groupby('pred_target').mean()[pbtf_top_20].T.plot.barh(ax=ax)\n",
    "ax.legend([\"NFL\", \"Fantasy Football\"]);\n",
    "plt.title(\"Most Frequent Positive Double Words (TFIDF vectorized) by Subreddit\", fontsize = 18);"
   ]
  },
  {
   "cell_type": "code",
   "execution_count": 173,
   "metadata": {},
   "outputs": [
    {
     "data": {
      "text/html": [
       "<div>\n",
       "<style scoped>\n",
       "    .dataframe tbody tr th:only-of-type {\n",
       "        vertical-align: middle;\n",
       "    }\n",
       "\n",
       "    .dataframe tbody tr th {\n",
       "        vertical-align: top;\n",
       "    }\n",
       "\n",
       "    .dataframe thead th {\n",
       "        text-align: right;\n",
       "    }\n",
       "</style>\n",
       "<table border=\"1\" class=\"dataframe\">\n",
       "  <thead>\n",
       "    <tr style=\"text-align: right;\">\n",
       "      <th></th>\n",
       "      <th>title</th>\n",
       "      <th>body</th>\n",
       "      <th>num_comments</th>\n",
       "      <th>upvote_ratio</th>\n",
       "      <th>url</th>\n",
       "      <th>elapsed_time</th>\n",
       "      <th>subreddit</th>\n",
       "      <th>url_website</th>\n",
       "      <th>all_text</th>\n",
       "      <th>text_in_body</th>\n",
       "      <th>word_count</th>\n",
       "      <th>char_count</th>\n",
       "      <th>pred_target</th>\n",
       "      <th>sentiment</th>\n",
       "    </tr>\n",
       "  </thead>\n",
       "  <tbody>\n",
       "    <tr>\n",
       "      <td>0</td>\n",
       "      <td>Week 6 Overperformers: Robby Anderson, Hunter ...</td>\n",
       "      <td></td>\n",
       "      <td>36</td>\n",
       "      <td>0.78</td>\n",
       "      <td>https://www.thefantasyfootballadvice.com/artic...</td>\n",
       "      <td>113.369934</td>\n",
       "      <td>r/fantasyfootball</td>\n",
       "      <td>Other</td>\n",
       "      <td>Week 6 Overperformers: Robby Anderson, Hunter ...</td>\n",
       "      <td>0</td>\n",
       "      <td>9</td>\n",
       "      <td>61</td>\n",
       "      <td>1</td>\n",
       "      <td>0.0</td>\n",
       "    </tr>\n",
       "    <tr>\n",
       "      <td>1</td>\n",
       "      <td>Fantasy Football Week 7: Starts &amp; Sits</td>\n",
       "      <td></td>\n",
       "      <td>8</td>\n",
       "      <td>0.88</td>\n",
       "      <td>https://www.youtube.com/watch?v=bBNYQpk4ziQ</td>\n",
       "      <td>129.536600</td>\n",
       "      <td>r/fantasyfootball</td>\n",
       "      <td>YouTube</td>\n",
       "      <td>Fantasy Football Week 7: Starts &amp; Sits</td>\n",
       "      <td>0</td>\n",
       "      <td>7</td>\n",
       "      <td>38</td>\n",
       "      <td>1</td>\n",
       "      <td>0.0</td>\n",
       "    </tr>\n",
       "  </tbody>\n",
       "</table>\n",
       "</div>"
      ],
      "text/plain": [
       "                                               title body  num_comments  \\\n",
       "0  Week 6 Overperformers: Robby Anderson, Hunter ...                 36   \n",
       "1             Fantasy Football Week 7: Starts & Sits                  8   \n",
       "\n",
       "   upvote_ratio                                                url  \\\n",
       "0          0.78  https://www.thefantasyfootballadvice.com/artic...   \n",
       "1          0.88        https://www.youtube.com/watch?v=bBNYQpk4ziQ   \n",
       "\n",
       "   elapsed_time          subreddit url_website  \\\n",
       "0    113.369934  r/fantasyfootball       Other   \n",
       "1    129.536600  r/fantasyfootball     YouTube   \n",
       "\n",
       "                                            all_text  text_in_body  \\\n",
       "0  Week 6 Overperformers: Robby Anderson, Hunter ...             0   \n",
       "1             Fantasy Football Week 7: Starts & Sits             0   \n",
       "\n",
       "   word_count  char_count  pred_target  sentiment  \n",
       "0           9          61            1        0.0  \n",
       "1           7          38            1        0.0  "
      ]
     },
     "execution_count": 173,
     "metadata": {},
     "output_type": "execute_result"
    }
   ],
   "source": [
    "df.head(2)"
   ]
  },
  {
   "cell_type": "markdown",
   "metadata": {},
   "source": [
    "### Export DataFrame"
   ]
  },
  {
   "cell_type": "markdown",
   "metadata": {},
   "source": [
    "Exporting DataFrame to csv for notebook 3 to model."
   ]
  },
  {
   "cell_type": "code",
   "execution_count": 125,
   "metadata": {},
   "outputs": [],
   "source": [
    "df.to_csv('../data/model_data.csv', index=False)"
   ]
  }
 ],
 "metadata": {
  "kernelspec": {
   "display_name": "Python 3",
   "language": "python",
   "name": "python3"
  },
  "language_info": {
   "codemirror_mode": {
    "name": "ipython",
    "version": 3
   },
   "file_extension": ".py",
   "mimetype": "text/x-python",
   "name": "python",
   "nbconvert_exporter": "python",
   "pygments_lexer": "ipython3",
   "version": "3.7.4"
  }
 },
 "nbformat": 4,
 "nbformat_minor": 2
}
